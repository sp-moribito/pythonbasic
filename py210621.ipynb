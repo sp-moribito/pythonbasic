{
  "nbformat": 4,
  "nbformat_minor": 0,
  "metadata": {
    "colab": {
      "name": "py210621.ipynb",
      "provenance": [],
      "authorship_tag": "ABX9TyNc0db7S0YDxcHcg2RcaHHT",
      "include_colab_link": true
    },
    "kernelspec": {
      "name": "python3",
      "display_name": "Python 3"
    },
    "language_info": {
      "name": "python"
    }
  },
  "cells": [
    {
      "cell_type": "markdown",
      "metadata": {
        "id": "view-in-github",
        "colab_type": "text"
      },
      "source": [
        "<a href=\"https://colab.research.google.com/github/sp-moribito/pythonbasic/blob/main/py210621.ipynb\" target=\"_parent\"><img src=\"https://colab.research.google.com/assets/colab-badge.svg\" alt=\"Open In Colab\"/></a>"
      ]
    },
    {
      "cell_type": "code",
      "metadata": {
        "colab": {
          "base_uri": "https://localhost:8080/"
        },
        "id": "BECpI0_zJGpX",
        "outputId": "2c9dc885-7f7f-4ac8-e87f-98278a724e7b"
      },
      "source": [
        "import tensorflow as tf\n",
        "\n",
        "a=tf.constant(2)\n",
        "print(tf.rank(a))"
      ],
      "execution_count": 1,
      "outputs": [
        {
          "output_type": "stream",
          "text": [
            "tf.Tensor(0, shape=(), dtype=int32)\n"
          ],
          "name": "stdout"
        }
      ]
    },
    {
      "cell_type": "code",
      "metadata": {
        "colab": {
          "base_uri": "https://localhost:8080/"
        },
        "id": "zBqc2-cZK5ve",
        "outputId": "70c14afa-1362-468c-f515-e8167bb16de9"
      },
      "source": [
        "def square_pos(x):\n",
        "  if x>0:\n",
        "    x=x*x\n",
        "  else:\n",
        "    x=x*1\n",
        "  return x\n",
        "\n",
        "print(square_pos(tf.constant(2)))"
      ],
      "execution_count": 2,
      "outputs": [
        {
          "output_type": "stream",
          "text": [
            "tf.Tensor(4, shape=(), dtype=int32)\n"
          ],
          "name": "stdout"
        }
      ]
    },
    {
      "cell_type": "code",
      "metadata": {
        "colab": {
          "base_uri": "https://localhost:8080/"
        },
        "id": "G8-YDZUaNO6W",
        "outputId": "7cf81e0f-b08c-4431-dbf6-b601d06c6493"
      },
      "source": [
        "x=tf.random.uniform((10,5))\n",
        "w=tf.random.uniform((5,3))\n",
        "d=tf.matmul(x,w)\n",
        "\n",
        "print(f'x와 w의 벡터 내적의 결과 크기:{d.shape}')"
      ],
      "execution_count": 3,
      "outputs": [
        {
          "output_type": "stream",
          "text": [
            "x와 w의 벡터 내적의 결과 크기:(10, 3)\n"
          ],
          "name": "stdout"
        }
      ]
    },
    {
      "cell_type": "code",
      "metadata": {
        "colab": {
          "base_uri": "https://localhost:8080/"
        },
        "id": "Br41myFCUu73",
        "outputId": "2ae06d53-e8d4-4638-fd6a-79a5fee1f6fb"
      },
      "source": [
        "from tensorflow.keras.datasets.mnist import load_data\n",
        "\n",
        "(x_train,y_train),(x_test,y_test)=load_data(path='mist.npz')"
      ],
      "execution_count": 6,
      "outputs": [
        {
          "output_type": "stream",
          "text": [
            "Downloading data from https://storage.googleapis.com/tensorflow/tf-keras-datasets/mnist.npz\n",
            "11493376/11490434 [==============================] - 0s 0us/step\n"
          ],
          "name": "stdout"
        }
      ]
    },
    {
      "cell_type": "code",
      "metadata": {
        "colab": {
          "base_uri": "https://localhost:8080/"
        },
        "id": "GssbGA6scMy1",
        "outputId": "b40be028-80fc-42f4-fefc-0538d50a48d8"
      },
      "source": [
        "print(x_train.shape,y_train.shape)\n",
        "print(y_train)"
      ],
      "execution_count": 8,
      "outputs": [
        {
          "output_type": "stream",
          "text": [
            "(60000, 28, 28) (60000,)\n",
            "[5 0 4 ... 5 6 8]\n"
          ],
          "name": "stdout"
        }
      ]
    },
    {
      "cell_type": "code",
      "metadata": {
        "colab": {
          "base_uri": "https://localhost:8080/"
        },
        "id": "qMZDPOL-cm6H",
        "outputId": "e254612a-abda-4941-e341-b4964d241f60"
      },
      "source": [
        "print(x_test.shape,y_test.shape)\n",
        "print(y_test)"
      ],
      "execution_count": 10,
      "outputs": [
        {
          "output_type": "stream",
          "text": [
            "(10000, 28, 28) (10000,)\n",
            "[7 2 1 ... 4 5 6]\n"
          ],
          "name": "stdout"
        }
      ]
    },
    {
      "cell_type": "code",
      "metadata": {
        "colab": {
          "base_uri": "https://localhost:8080/",
          "height": 809
        },
        "id": "mhFs_45PcuUi",
        "outputId": "580203e6-06dd-4070-d753-73c3d0407c8d"
      },
      "source": [
        "import matplotlib.pyplot as plt\n",
        "import numpy as np\n",
        "\n",
        "sample_size=3\n",
        "\n",
        "random_idx=np.random.randint(60000,size=sample_size)\n",
        "\n",
        "for idx in random_idx:\n",
        "  img=x_train[idx,:]\n",
        "  label=y_train[idx]\n",
        "  plt.figure()\n",
        "  plt.imshow(img)\n",
        "  plt.title(\"%d-th data, label is %d\" % (idx,label))"
      ],
      "execution_count": 11,
      "outputs": [
        {
          "output_type": "display_data",
          "data": {
            "image/png": "[encoded data removed]",
            "text/plain": [
              "<Figure size 432x288 with 1 Axes>"
            ]
          },
          "metadata": {
            "tags": [],
            "needs_background": "light"
          }
        },
        {
          "output_type": "display_data",
          "data": {
            "image/png": "[encoded data removed]",
            "text/plain": [
              "<Figure size 432x288 with 1 Axes>"
            ]
          },
          "metadata": {
            "tags": [],
            "needs_background": "light"
          }
        },
        {
          "output_type": "display_data",
          "data": {
            "image/png": "[encoded data removed]",
            "text/plain": [
              "<Figure size 432x288 with 1 Axes>"
            ]
          },
          "metadata": {
            "tags": [],
            "needs_background": "light"
          }
        }
      ]
    },
    {
      "cell_type": "code",
      "metadata": {
        "colab": {
          "base_uri": "https://localhost:8080/"
        },
        "id": "QaAmfjP4dNfA",
        "outputId": "4fff0ab2-1702-495e-b710-c24b047d7387"
      },
      "source": [
        "from sklearn.model_selection import train_test_split\n",
        "\n",
        "x_train,x_val,y_train,y_val=train_test_split(x_train,y_train,test_size=0.3,random_state=777)\n",
        "\n",
        "print(f'훈련 데이터 {x_train.shape} 레이블 {y_train.shape}')\n",
        "print(f'검증 데이터 {x_val.shape} 레이블 {y_val.shape}')"
      ],
      "execution_count": 12,
      "outputs": [
        {
          "output_type": "stream",
          "text": [
            "훈련 데이터 (42000, 28, 28) 레이블 (42000,)\n",
            "검증 데이터 (18000, 28, 28) 레이블 (18000,)\n"
          ],
          "name": "stdout"
        }
      ]
    },
    {
      "cell_type": "code",
      "metadata": {
        "colab": {
          "base_uri": "https://localhost:8080/"
        },
        "id": "feCEOiCUe8qx",
        "outputId": "ed7e2ff4-cb25-4a66-eccd-5c92a93f23ef"
      },
      "source": [
        "num_x_train=x_train.shape[0]\n",
        "num_x_val=x_val.shape[0]\n",
        "num_x_test=x_test.shape[0]\n",
        "\n",
        "x_train=(x_train.reshape((num_x_train,28*28)))/255\n",
        "x_val=(x_val.reshape((num_x_val,28*28)))/255\n",
        "x_test=(x_test.reshape((num_x_test,28*28)))/255\n",
        "\n",
        "print(x_train.shape)"
      ],
      "execution_count": 13,
      "outputs": [
        {
          "output_type": "stream",
          "text": [
            "(42000, 784)\n"
          ],
          "name": "stdout"
        }
      ]
    },
    {
      "cell_type": "code",
      "metadata": {
        "colab": {
          "base_uri": "https://localhost:8080/"
        },
        "id": "6caXgAGNmEED",
        "outputId": "7908e244-9dd4-4f3b-ea8b-6c74ae5e0269"
      },
      "source": [
        "from tensorflow.keras.utils import to_categorical\n",
        "\n",
        "y_train=to_categorical(y_train)\n",
        "y_val=to_categorical(y_val)\n",
        "y_test=to_categorical(y_test)\n",
        "\n",
        "print(y_train)"
      ],
      "execution_count": 14,
      "outputs": [
        {
          "output_type": "stream",
          "text": [
            "[[0. 0. 1. ... 0. 0. 0.]\n",
            " [0. 0. 0. ... 1. 0. 0.]\n",
            " [0. 0. 0. ... 0. 0. 0.]\n",
            " ...\n",
            " [0. 0. 0. ... 0. 0. 0.]\n",
            " [0. 0. 0. ... 0. 0. 0.]\n",
            " [0. 0. 0. ... 0. 0. 0.]]\n"
          ],
          "name": "stdout"
        }
      ]
    },
    {
      "cell_type": "code",
      "metadata": {
        "id": "GXbIctvhmVFh"
      },
      "source": [
        "from tensorflow.keras.models import Sequential\n",
        "from tensorflow.keras.layers import Dense\n",
        "\n",
        "model=Sequential()\n",
        "\n",
        "model.add(Dense(64,activation='relu',input_shape=(784,)))\n",
        "model.add(Dense(32,activation='relu'))\n",
        "model.add(Dense(10,activation='softmax'))"
      ],
      "execution_count": 16,
      "outputs": []
    },
    {
      "cell_type": "code",
      "metadata": {
        "colab": {
          "base_uri": "https://localhost:8080/"
        },
        "id": "FWnQpSj_mtVH",
        "outputId": "afc78f4e-a419-4c6f-87fc-1005b026e3a7"
      },
      "source": [
        "def softmax(arr):\n",
        "  m=np.max(arr)\n",
        "  arr=arr-m\n",
        "  arr=np.exp(arr)\n",
        "  return arr/np.sum(arr)\n",
        "\n",
        "def sigmoid(x):\n",
        "  return 1/(1+np.exp(-x))\n",
        "\n",
        "case_1=np.array([3.1,3.0,2.9])\n",
        "case_2=np.array([2.0,1.0,0.7])\n",
        "\n",
        "np.set_printoptions(precision=3)\n",
        "print(f'sigmoid {sigmoid(case_1)},softmax {softmax(case_1)}')\n",
        "print(f'sigmoid {sigmoid(case_2)},softmax {softmax(case_2)}')"
      ],
      "execution_count": 17,
      "outputs": [
        {
          "output_type": "stream",
          "text": [
            "sigmoid [0.957 0.953 0.948],softmax [0.367 0.332 0.301]\n",
            "sigmoid [0.881 0.731 0.668],softmax [0.61  0.224 0.166]\n"
          ],
          "name": "stdout"
        }
      ]
    },
    {
      "cell_type": "code",
      "metadata": {
        "id": "2-RNWFLsnXTM"
      },
      "source": [
        "model.compile(optimizer='adam',loss='categorical_crossentropy',metrics=['acc'])"
      ],
      "execution_count": 18,
      "outputs": []
    },
    {
      "cell_type": "code",
      "metadata": {
        "colab": {
          "base_uri": "https://localhost:8080/"
        },
        "id": "D0LatVXnnimM",
        "outputId": "291dde65-04f2-4fb0-ed2d-51d07caf8b18"
      },
      "source": [
        "history=model.fit(x_train,y_train,epochs=30,batch_size=128,validation_data=(x_val,y_val))"
      ],
      "execution_count": 19,
      "outputs": [
        {
          "output_type": "stream",
          "text": [
            "Epoch 1/30\n",
            "329/329 [==============================] - 2s 4ms/step - loss: 0.4914 - acc: 0.8593 - val_loss: 0.2416 - val_acc: 0.9312\n",
            "Epoch 2/30\n",
            "329/329 [==============================] - 1s 3ms/step - loss: 0.2009 - acc: 0.9417 - val_loss: 0.1834 - val_acc: 0.9456\n",
            "Epoch 3/30\n",
            "329/329 [==============================] - 1s 3ms/step - loss: 0.1540 - acc: 0.9551 - val_loss: 0.1515 - val_acc: 0.9563\n",
            "Epoch 4/30\n",
            "329/329 [==============================] - 1s 3ms/step - loss: 0.1238 - acc: 0.9645 - val_loss: 0.1449 - val_acc: 0.9563\n",
            "Epoch 5/30\n",
            "329/329 [==============================] - 1s 3ms/step - loss: 0.1061 - acc: 0.9680 - val_loss: 0.1263 - val_acc: 0.9619\n",
            "Epoch 6/30\n",
            "329/329 [==============================] - 1s 3ms/step - loss: 0.0921 - acc: 0.9727 - val_loss: 0.1202 - val_acc: 0.9640\n",
            "Epoch 7/30\n",
            "329/329 [==============================] - 1s 3ms/step - loss: 0.0796 - acc: 0.9768 - val_loss: 0.1164 - val_acc: 0.9654\n",
            "Epoch 8/30\n",
            "329/329 [==============================] - 1s 3ms/step - loss: 0.0687 - acc: 0.9796 - val_loss: 0.1140 - val_acc: 0.9656\n",
            "Epoch 9/30\n",
            "329/329 [==============================] - 1s 3ms/step - loss: 0.0627 - acc: 0.9814 - val_loss: 0.1117 - val_acc: 0.9657\n",
            "Epoch 10/30\n",
            "329/329 [==============================] - 1s 4ms/step - loss: 0.0540 - acc: 0.9836 - val_loss: 0.1049 - val_acc: 0.9683\n",
            "Epoch 11/30\n",
            "329/329 [==============================] - 1s 4ms/step - loss: 0.0486 - acc: 0.9851 - val_loss: 0.1087 - val_acc: 0.9683\n",
            "Epoch 12/30\n",
            "329/329 [==============================] - 1s 4ms/step - loss: 0.0423 - acc: 0.9871 - val_loss: 0.1051 - val_acc: 0.9696\n",
            "Epoch 13/30\n",
            "329/329 [==============================] - 1s 4ms/step - loss: 0.0362 - acc: 0.9900 - val_loss: 0.1158 - val_acc: 0.9662\n",
            "Epoch 14/30\n",
            "329/329 [==============================] - 1s 3ms/step - loss: 0.0325 - acc: 0.9912 - val_loss: 0.1092 - val_acc: 0.9685\n",
            "Epoch 15/30\n",
            "329/329 [==============================] - 1s 3ms/step - loss: 0.0296 - acc: 0.9908 - val_loss: 0.1079 - val_acc: 0.9697\n",
            "Epoch 16/30\n",
            "329/329 [==============================] - 1s 3ms/step - loss: 0.0265 - acc: 0.9922 - val_loss: 0.1081 - val_acc: 0.9708\n",
            "Epoch 17/30\n",
            "329/329 [==============================] - 1s 3ms/step - loss: 0.0230 - acc: 0.9935 - val_loss: 0.1089 - val_acc: 0.9709\n",
            "Epoch 18/30\n",
            "329/329 [==============================] - 1s 3ms/step - loss: 0.0192 - acc: 0.9946 - val_loss: 0.1192 - val_acc: 0.9680\n",
            "Epoch 19/30\n",
            "329/329 [==============================] - 1s 4ms/step - loss: 0.0173 - acc: 0.9953 - val_loss: 0.1379 - val_acc: 0.9658\n",
            "Epoch 20/30\n",
            "329/329 [==============================] - 1s 4ms/step - loss: 0.0163 - acc: 0.9954 - val_loss: 0.1233 - val_acc: 0.9690\n",
            "Epoch 21/30\n",
            "329/329 [==============================] - 1s 3ms/step - loss: 0.0134 - acc: 0.9963 - val_loss: 0.1223 - val_acc: 0.9705\n",
            "Epoch 22/30\n",
            "329/329 [==============================] - 1s 3ms/step - loss: 0.0119 - acc: 0.9971 - val_loss: 0.1316 - val_acc: 0.9684\n",
            "Epoch 23/30\n",
            "329/329 [==============================] - 1s 3ms/step - loss: 0.0094 - acc: 0.9978 - val_loss: 0.1256 - val_acc: 0.9698\n",
            "Epoch 24/30\n",
            "329/329 [==============================] - 1s 3ms/step - loss: 0.0112 - acc: 0.9970 - val_loss: 0.1416 - val_acc: 0.9682\n",
            "Epoch 25/30\n",
            "329/329 [==============================] - 1s 3ms/step - loss: 0.0089 - acc: 0.9978 - val_loss: 0.1329 - val_acc: 0.9705\n",
            "Epoch 26/30\n",
            "329/329 [==============================] - 1s 3ms/step - loss: 0.0068 - acc: 0.9983 - val_loss: 0.1382 - val_acc: 0.9699\n",
            "Epoch 27/30\n",
            "329/329 [==============================] - 1s 3ms/step - loss: 0.0061 - acc: 0.9989 - val_loss: 0.1334 - val_acc: 0.9707\n",
            "Epoch 28/30\n",
            "329/329 [==============================] - 1s 3ms/step - loss: 0.0052 - acc: 0.9990 - val_loss: 0.1396 - val_acc: 0.9699\n",
            "Epoch 29/30\n",
            "329/329 [==============================] - 1s 3ms/step - loss: 0.0104 - acc: 0.9969 - val_loss: 0.1530 - val_acc: 0.9684\n",
            "Epoch 30/30\n",
            "329/329 [==============================] - 1s 3ms/step - loss: 0.0096 - acc: 0.9968 - val_loss: 0.1510 - val_acc: 0.9694\n"
          ],
          "name": "stdout"
        }
      ]
    },
    {
      "cell_type": "code",
      "metadata": {
        "colab": {
          "base_uri": "https://localhost:8080/"
        },
        "id": "Pt1yIdzUnvIh",
        "outputId": "72fa4530-76a4-4d0e-afd1-a2c75cb34850"
      },
      "source": [
        "history.history.keys()"
      ],
      "execution_count": 20,
      "outputs": [
        {
          "output_type": "execute_result",
          "data": {
            "text/plain": [
              "dict_keys(['loss', 'acc', 'val_loss', 'val_acc'])"
            ]
          },
          "metadata": {
            "tags": []
          },
          "execution_count": 20
        }
      ]
    },
    {
      "cell_type": "code",
      "metadata": {
        "colab": {
          "base_uri": "https://localhost:8080/"
        },
        "id": "-_3iO0V5oCjY",
        "outputId": "2ccdef21-f0b8-4e9d-8043-2be71d03c9bd"
      },
      "source": [
        "model.evaluate(x_test,y_test)"
      ],
      "execution_count": 21,
      "outputs": [
        {
          "output_type": "stream",
          "text": [
            "313/313 [==============================] - 0s 1ms/step - loss: 0.1482 - acc: 0.9694\n"
          ],
          "name": "stdout"
        },
        {
          "output_type": "execute_result",
          "data": {
            "text/plain": [
              "[0.1482222080230713, 0.9693999886512756]"
            ]
          },
          "metadata": {
            "tags": []
          },
          "execution_count": 21
        }
      ]
    },
    {
      "cell_type": "code",
      "metadata": {
        "colab": {
          "base_uri": "https://localhost:8080/"
        },
        "id": "djE_5tZdoJ6q",
        "outputId": "becbdd26-4ab3-4455-c746-5d8557ef9240"
      },
      "source": [
        "results=model.predict(x_test)\n",
        "print(results.shape)\n",
        "np.set_printoptions(precision=7)\n",
        "print(f'각 클래스에 속할 확률 : \\n{results [0]}')"
      ],
      "execution_count": 22,
      "outputs": [
        {
          "output_type": "stream",
          "text": [
            "(10000, 10)\n",
            "각 클래스에 속할 확률 : \n",
            "[2.3062668e-11 1.2099073e-15 2.1762805e-09 4.2266947e-07 7.5321657e-17\n",
            " 3.1817424e-10 4.0887540e-16 9.9999952e-01 2.4852279e-10 1.6995124e-08]\n"
          ],
          "name": "stdout"
        }
      ]
    },
    {
      "cell_type": "code",
      "metadata": {
        "colab": {
          "base_uri": "https://localhost:8080/",
          "height": 442
        },
        "id": "jsuE9TKFoZa4",
        "outputId": "8dabd669-f3e3-4b2b-ce8d-eced21f0ad5b"
      },
      "source": [
        "from sklearn.metrics import classification_report,confusion_matrix\n",
        "import matplotlib.pyplot as plt\n",
        "import seaborn as sns\n",
        "\n",
        "plt.figure(figsize=(7,7))\n",
        "cm=confusion_matrix(np.argmax(y_test,axis=-1),np.argmax(results,axis=-1))\n",
        "sns.heatmap(cm,annot=True,fmt='d',cmap='Blues')\n",
        "plt.xlabel('predicted label')\n",
        "plt.ylabel('true label')\n",
        "plt.show()"
      ],
      "execution_count": 23,
      "outputs": [
        {
          "output_type": "display_data",
          "data": {
            "image/png": "[encoded data removed]",
            "text/plain": [
              "<Figure size 504x504 with 2 Axes>"
            ]
          },
          "metadata": {
            "tags": [],
            "needs_background": "light"
          }
        }
      ]
    },
    {
      "cell_type": "code",
      "metadata": {
        "colab": {
          "base_uri": "https://localhost:8080/"
        },
        "id": "Jp3ZwFRco6RJ",
        "outputId": "46c280e9-cf37-4e43-bc72-390965bf9c9c"
      },
      "source": [
        "print('\\n',classification_report(np.argmax(y_test,axis=-1),np.argmax(results,axis=-1)))"
      ],
      "execution_count": 24,
      "outputs": [
        {
          "output_type": "stream",
          "text": [
            "\n",
            "               precision    recall  f1-score   support\n",
            "\n",
            "           0       0.98      0.98      0.98       980\n",
            "           1       0.99      0.98      0.99      1135\n",
            "           2       0.98      0.96      0.97      1032\n",
            "           3       0.96      0.97      0.96      1010\n",
            "           4       0.96      0.98      0.97       982\n",
            "           5       0.96      0.98      0.97       892\n",
            "           6       0.97      0.97      0.97       958\n",
            "           7       0.98      0.96      0.97      1028\n",
            "           8       0.95      0.97      0.96       974\n",
            "           9       0.96      0.95      0.96      1009\n",
            "\n",
            "    accuracy                           0.97     10000\n",
            "   macro avg       0.97      0.97      0.97     10000\n",
            "weighted avg       0.97      0.97      0.97     10000\n",
            "\n"
          ],
          "name": "stdout"
        }
      ]
    },
    {
      "cell_type": "code",
      "metadata": {
        "id": "O7595S8gpFew"
      },
      "source": [
        ""
      ],
      "execution_count": null,
      "outputs": []
    }
  ]
}