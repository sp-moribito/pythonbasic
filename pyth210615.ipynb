{
 "cells": [
  {
   "cell_type": "code",
   "execution_count": 1,
   "metadata": {},
   "outputs": [
    {
     "name": "stdout",
     "output_type": "stream",
     "text": [
      "{\"RealtimeCityAir\":{\"list_total_count\":25,\"RESULT\":{\"CODE\":\"INFO-000\",\"MESSAGE\":\"정상 처리되었습니다\"},\"row\":[{\"MSRDT\":\"202106151300\",\"MSRRGN_NM\":\"도심권\",\"MSRSTE_NM\":\"중구\",\"PM10\":18.0,\"PM25\":11.0,\"O3\":0.013,\"NO2\":0.022,\"CO\":0.4,\"SO2\":0.004,\"IDEX_NM\":\"보통\",\"IDEX_MVL\":59.0,\"ARPLT_MAIN\":\"PM25\"},{\"MSRDT\":\"202106151300\",\"MSRRGN_NM\":\"도심권\",\"MSRSTE_NM\":\"종로구\",\"PM10\":14.0,\"PM25\":9.0,\"O3\":0.018,\"NO2\":0.016,\"CO\":0.4,\"SO2\":0.003,\"IDEX_NM\":\"보통\",\"IDEX_MVL\":53.0,\"ARPLT_MAIN\":\"PM25\"},{\"MSRDT\":\"202106151300\",\"MSRRGN_NM\":\"도심권\",\"MSRSTE_NM\":\"용산구\",\"PM10\":17.0,\"PM25\":10.0,\"O3\":0.016,\"NO2\":0.013,\"CO\":0.3,\"SO2\":0.003,\"IDEX_NM\":\"보통\",\"IDEX_MVL\":53.0,\"ARPLT_MAIN\":\"PM25\"},{\"MSRDT\":\"202106151300\",\"MSRRGN_NM\":\"서북권\",\"MSRSTE_NM\":\"은평구\",\"PM10\":10.0,\"PM25\":7.0,\"O3\":0.019,\"NO2\":0.012,\"CO\":0.4,\"SO2\":0.002,\"IDEX_NM\":\"보통\",\"IDEX_MVL\":52.0,\"ARPLT_MAIN\":\"PM25\"},{\"MSRDT\":\"202106151300\",\"MSRRGN_NM\":\"서북권\",\"MSRSTE_NM\":\"서대문구\",\"PM10\":6.0,\"PM25\":6.0,\"O3\":0.019,\"NO2\":0.01,\"CO\":0.4,\"SO2\":0.003,\"IDEX_NM\":\"좋음\",\"IDEX_MVL\":34.0,\"ARPLT_MAIN\":\"PM10\"},{\"MSRDT\":\"202106151300\",\"MSRRGN_NM\":\"서북권\",\"MSRSTE_NM\":\"마포구\",\"PM10\":17.0,\"PM25\":10.0,\"O3\":0.015,\"NO2\":0.02,\"CO\":0.4,\"SO2\":0.003,\"IDEX_NM\":\"보통\",\"IDEX_MVL\":55.0,\"ARPLT_MAIN\":\"PM25\"},{\"MSRDT\":\"202106151300\",\"MSRRGN_NM\":\"동북권\",\"MSRSTE_NM\":\"광진구\",\"PM10\":16.0,\"PM25\":8.0,\"O3\":0.015,\"NO2\":0.016,\"CO\":0.4,\"SO2\":0.003,\"IDEX_NM\":\"좋음\",\"IDEX_MVL\":46.0,\"ARPLT_MAIN\":\"PM25\"},{\"MSRDT\":\"202106151300\",\"MSRRGN_NM\":\"동북권\",\"MSRSTE_NM\":\"성동구\",\"PM10\":13.0,\"PM25\":10.0,\"O3\":0.021,\"NO2\":0.013,\"CO\":0.3,\"SO2\":0.005,\"IDEX_NM\":\"보통\",\"IDEX_MVL\":56.0,\"ARPLT_MAIN\":\"PM25\"},{\"MSRDT\":\"202106151300\",\"MSRRGN_NM\":\"동북권\",\"MSRSTE_NM\":\"중랑구\",\"PM10\":15.0,\"PM25\":6.0,\"O3\":0.018,\"NO2\":0.012,\"CO\":0.3,\"SO2\":0.003,\"IDEX_NM\":\"보통\",\"IDEX_MVL\":52.0,\"ARPLT_MAIN\":\"PM25\"},{\"MSRDT\":\"202106151300\",\"MSRRGN_NM\":\"동북권\",\"MSRSTE_NM\":\"동대문구\",\"PM10\":17.0,\"PM25\":11.0,\"O3\":0.017,\"NO2\":0.017,\"CO\":0.3,\"SO2\":0.002,\"IDEX_NM\":\"보통\",\"IDEX_MVL\":56.0,\"ARPLT_MAIN\":\"PM25\"},{\"MSRDT\":\"202106151300\",\"MSRRGN_NM\":\"동북권\",\"MSRSTE_NM\":\"성북구\",\"PM10\":17.0,\"PM25\":6.0,\"O3\":0.015,\"NO2\":0.02,\"CO\":0.7,\"SO2\":0.002,\"IDEX_NM\":\"보통\",\"IDEX_MVL\":51.0,\"ARPLT_MAIN\":\"PM25\"},{\"MSRDT\":\"202106151300\",\"MSRRGN_NM\":\"동북권\",\"MSRSTE_NM\":\"도봉구\",\"PM10\":16.0,\"PM25\":6.0,\"O3\":0.017,\"NO2\":0.01,\"CO\":0.3,\"SO2\":0.003,\"IDEX_NM\":\"보통\",\"IDEX_MVL\":51.0,\"ARPLT_MAIN\":\"PM25\"},{\"MSRDT\":\"202106151300\",\"MSRRGN_NM\":\"동북권\",\"MSRSTE_NM\":\"강북구\",\"PM10\":14.0,\"PM25\":9.0,\"O3\":0.019,\"NO2\":0.013,\"CO\":0.3,\"SO2\":0.002,\"IDEX_NM\":\"보통\",\"IDEX_MVL\":55.0,\"ARPLT_MAIN\":\"PM25\"},{\"MSRDT\":\"202106151300\",\"MSRRGN_NM\":\"동북권\",\"MSRSTE_NM\":\"노원구\",\"PM10\":12.0,\"PM25\":6.0,\"O3\":0.024,\"NO2\":0.011,\"CO\":0.3,\"SO2\":0.003,\"IDEX_NM\":\"좋음\",\"IDEX_MVL\":49.0,\"ARPLT_MAIN\":\"PM25\"},{\"MSRDT\":\"202106151300\",\"MSRRGN_NM\":\"서남권\",\"MSRSTE_NM\":\"강서구\",\"PM10\":16.0,\"PM25\":13.0,\"O3\":0.019,\"NO2\":0.03,\"CO\":0.3,\"SO2\":0.002,\"IDEX_NM\":\"보통\",\"IDEX_MVL\":62.0,\"ARPLT_MAIN\":\"PM25\"},{\"MSRDT\":\"202106151300\",\"MSRRGN_NM\":\"서남권\",\"MSRSTE_NM\":\"구로구\",\"PM10\":11.0,\"PM25\":6.0,\"O3\":0.021,\"NO2\":0.02,\"CO\":0.4,\"SO2\":0.003,\"IDEX_NM\":\"보통\",\"IDEX_MVL\":56.0,\"ARPLT_MAIN\":\"PM25\"},{\"MSRDT\":\"202106151300\",\"MSRRGN_NM\":\"서남권\",\"MSRSTE_NM\":\"영등포구\",\"PM10\":17.0,\"PM25\":13.0,\"O3\":0.018,\"NO2\":0.024,\"CO\":0.5,\"SO2\":0.003,\"IDEX_NM\":\"보통\",\"IDEX_MVL\":62.0,\"ARPLT_MAIN\":\"PM25\"},{\"MSRDT\":\"202106151300\",\"MSRRGN_NM\":\"서남권\",\"MSRSTE_NM\":\"동작구\",\"PM10\":23.0,\"PM25\":12.0,\"O3\":0.019,\"NO2\":0.021,\"CO\":0.4,\"SO2\":0.003,\"IDEX_NM\":\"보통\",\"IDEX_MVL\":61.0,\"ARPLT_MAIN\":\"PM25\"},{\"MSRDT\":\"202106151300\",\"MSRRGN_NM\":\"서남권\",\"MSRSTE_NM\":\"관악구\",\"PM10\":22.0,\"PM25\":12.0,\"O3\":0.014,\"NO2\":0.026,\"CO\":0.4,\"SO2\":0.003,\"IDEX_NM\":\"보통\",\"IDEX_MVL\":56.0,\"ARPLT_MAIN\":\"PM25\"},{\"MSRDT\":\"202106151300\",\"MSRRGN_NM\":\"서남권\",\"MSRSTE_NM\":\"금천구\",\"PM10\":19.0,\"PM25\":13.0,\"O3\":0.026,\"NO2\":0.017,\"CO\":0.4,\"SO2\":0.003,\"IDEX_NM\":\"보통\",\"IDEX_MVL\":56.0,\"ARPLT_MAIN\":\"PM25\"},{\"MSRDT\":\"202106151300\",\"MSRRGN_NM\":\"서남권\",\"MSRSTE_NM\":\"양천구\",\"PM10\":19.0,\"PM25\":12.0,\"O3\":0.016,\"NO2\":0.022,\"CO\":0.4,\"SO2\":0.004,\"IDEX_NM\":\"보통\",\"IDEX_MVL\":58.0,\"ARPLT_MAIN\":\"PM25\"},{\"MSRDT\":\"202106151300\",\"MSRRGN_NM\":\"동남권\",\"MSRSTE_NM\":\"강남구\",\"PM10\":20.0,\"PM25\":11.0,\"O3\":0.012,\"NO2\":0.021,\"CO\":0.3,\"SO2\":0.003,\"IDEX_NM\":\"보통\",\"IDEX_MVL\":58.0,\"ARPLT_MAIN\":\"PM25\"},{\"MSRDT\":\"202106151300\",\"MSRRGN_NM\":\"동남권\",\"MSRSTE_NM\":\"서초구\",\"PM10\":16.0,\"PM25\":8.0,\"O3\":0.018,\"NO2\":0.021,\"CO\":0.4,\"SO2\":0.003,\"IDEX_NM\":\"보통\",\"IDEX_MVL\":53.0,\"ARPLT_MAIN\":\"PM25\"},{\"MSRDT\":\"202106151300\",\"MSRRGN_NM\":\"동남권\",\"MSRSTE_NM\":\"송파구\",\"PM10\":19.0,\"PM25\":14.0,\"O3\":0.021,\"NO2\":0.019,\"CO\":0.5,\"SO2\":0.003,\"IDEX_NM\":\"보통\",\"IDEX_MVL\":59.0,\"ARPLT_MAIN\":\"PM25\"},{\"MSRDT\":\"202106151300\",\"MSRRGN_NM\":\"동남권\",\"MSRSTE_NM\":\"강동구\",\"PM10\":14.0,\"PM25\":8.0,\"O3\":0.014,\"NO2\":0.011,\"CO\":0.4,\"SO2\":0.002,\"IDEX_NM\":\"보통\",\"IDEX_MVL\":55.0,\"ARPLT_MAIN\":\"PM25\"}]}}\n"
     ]
    }
   ],
   "source": [
    "import requests\n",
    "from bs4 import BeautifulSoup\n",
    "\n",
    "raw = requests.get(\"http://openapi.seoul.go.kr:8088/4f6a6547456b6368333355736a714f/json/RealtimeCityAir/1/25/\")\n",
    "\n",
    "html = BeautifulSoup(raw.text, \"html.parser\")\n",
    "print(html)"
   ]
  },
  {
   "cell_type": "code",
   "execution_count": 19,
   "metadata": {},
   "outputs": [
    {
     "name": "stdout",
     "output_type": "stream",
     "text": [
      "{'RealtimeCityAir': {'list_total_count': 25, 'RESULT': {'CODE': 'INFO-000', 'MESSAGE': '정상 처리되었습니다'}, 'row': [{'MSRDT': '202106151300', 'MSRRGN_NM': '도심권', 'MSRSTE_NM': '중구', 'PM10': 18.0, 'PM25': 11.0, 'O3': 0.013, 'NO2': 0.022, 'CO': 0.4, 'SO2': 0.004, 'IDEX_NM': '보통', 'IDEX_MVL': 59.0, 'ARPLT_MAIN': 'PM25'}, {'MSRDT': '202106151300', 'MSRRGN_NM': '도심권', 'MSRSTE_NM': '종로구', 'PM10': 14.0, 'PM25': 9.0, 'O3': 0.018, 'NO2': 0.016, 'CO': 0.4, 'SO2': 0.003, 'IDEX_NM': '보통', 'IDEX_MVL': 53.0, 'ARPLT_MAIN': 'PM25'}, {'MSRDT': '202106151300', 'MSRRGN_NM': '도심권', 'MSRSTE_NM': '용산구', 'PM10': 17.0, 'PM25': 10.0, 'O3': 0.016, 'NO2': 0.013, 'CO': 0.3, 'SO2': 0.003, 'IDEX_NM': '보통', 'IDEX_MVL': 53.0, 'ARPLT_MAIN': 'PM25'}, {'MSRDT': '202106151300', 'MSRRGN_NM': '서북권', 'MSRSTE_NM': '은평구', 'PM10': 10.0, 'PM25': 7.0, 'O3': 0.019, 'NO2': 0.012, 'CO': 0.4, 'SO2': 0.002, 'IDEX_NM': '보통', 'IDEX_MVL': 52.0, 'ARPLT_MAIN': 'PM25'}, {'MSRDT': '202106151300', 'MSRRGN_NM': '서북권', 'MSRSTE_NM': '서대문구', 'PM10': 6.0, 'PM25': 6.0, 'O3': 0.019, 'NO2': 0.01, 'CO': 0.4, 'SO2': 0.003, 'IDEX_NM': '좋음', 'IDEX_MVL': 34.0, 'ARPLT_MAIN': 'PM10'}, {'MSRDT': '202106151300', 'MSRRGN_NM': '서북권', 'MSRSTE_NM': '마포구', 'PM10': 17.0, 'PM25': 10.0, 'O3': 0.015, 'NO2': 0.02, 'CO': 0.4, 'SO2': 0.003, 'IDEX_NM': '보통', 'IDEX_MVL': 55.0, 'ARPLT_MAIN': 'PM25'}, {'MSRDT': '202106151300', 'MSRRGN_NM': '동북권', 'MSRSTE_NM': '광진구', 'PM10': 16.0, 'PM25': 8.0, 'O3': 0.015, 'NO2': 0.016, 'CO': 0.4, 'SO2': 0.003, 'IDEX_NM': '좋음', 'IDEX_MVL': 46.0, 'ARPLT_MAIN': 'PM25'}, {'MSRDT': '202106151300', 'MSRRGN_NM': '동북권', 'MSRSTE_NM': '성동구', 'PM10': 13.0, 'PM25': 10.0, 'O3': 0.021, 'NO2': 0.013, 'CO': 0.3, 'SO2': 0.005, 'IDEX_NM': '보통', 'IDEX_MVL': 56.0, 'ARPLT_MAIN': 'PM25'}, {'MSRDT': '202106151300', 'MSRRGN_NM': '동북권', 'MSRSTE_NM': '중랑구', 'PM10': 15.0, 'PM25': 6.0, 'O3': 0.018, 'NO2': 0.012, 'CO': 0.3, 'SO2': 0.003, 'IDEX_NM': '보통', 'IDEX_MVL': 52.0, 'ARPLT_MAIN': 'PM25'}, {'MSRDT': '202106151300', 'MSRRGN_NM': '동북권', 'MSRSTE_NM': '동대문구', 'PM10': 17.0, 'PM25': 11.0, 'O3': 0.017, 'NO2': 0.017, 'CO': 0.3, 'SO2': 0.002, 'IDEX_NM': '보통', 'IDEX_MVL': 56.0, 'ARPLT_MAIN': 'PM25'}, {'MSRDT': '202106151300', 'MSRRGN_NM': '동북권', 'MSRSTE_NM': '성북구', 'PM10': 17.0, 'PM25': 6.0, 'O3': 0.015, 'NO2': 0.02, 'CO': 0.7, 'SO2': 0.002, 'IDEX_NM': '보통', 'IDEX_MVL': 51.0, 'ARPLT_MAIN': 'PM25'}, {'MSRDT': '202106151300', 'MSRRGN_NM': '동북권', 'MSRSTE_NM': '도봉구', 'PM10': 16.0, 'PM25': 6.0, 'O3': 0.017, 'NO2': 0.01, 'CO': 0.3, 'SO2': 0.003, 'IDEX_NM': '보통', 'IDEX_MVL': 51.0, 'ARPLT_MAIN': 'PM25'}, {'MSRDT': '202106151300', 'MSRRGN_NM': '동북권', 'MSRSTE_NM': '강북구', 'PM10': 14.0, 'PM25': 9.0, 'O3': 0.019, 'NO2': 0.013, 'CO': 0.3, 'SO2': 0.002, 'IDEX_NM': '보통', 'IDEX_MVL': 55.0, 'ARPLT_MAIN': 'PM25'}, {'MSRDT': '202106151300', 'MSRRGN_NM': '동북권', 'MSRSTE_NM': '노원구', 'PM10': 12.0, 'PM25': 6.0, 'O3': 0.024, 'NO2': 0.011, 'CO': 0.3, 'SO2': 0.003, 'IDEX_NM': '좋음', 'IDEX_MVL': 49.0, 'ARPLT_MAIN': 'PM25'}, {'MSRDT': '202106151300', 'MSRRGN_NM': '서남권', 'MSRSTE_NM': '강서구', 'PM10': 16.0, 'PM25': 13.0, 'O3': 0.019, 'NO2': 0.03, 'CO': 0.3, 'SO2': 0.002, 'IDEX_NM': '보통', 'IDEX_MVL': 62.0, 'ARPLT_MAIN': 'PM25'}, {'MSRDT': '202106151300', 'MSRRGN_NM': '서남권', 'MSRSTE_NM': '구로구', 'PM10': 11.0, 'PM25': 6.0, 'O3': 0.021, 'NO2': 0.02, 'CO': 0.4, 'SO2': 0.003, 'IDEX_NM': '보통', 'IDEX_MVL': 56.0, 'ARPLT_MAIN': 'PM25'}, {'MSRDT': '202106151300', 'MSRRGN_NM': '서남권', 'MSRSTE_NM': '영등포구', 'PM10': 17.0, 'PM25': 13.0, 'O3': 0.018, 'NO2': 0.024, 'CO': 0.5, 'SO2': 0.003, 'IDEX_NM': '보통', 'IDEX_MVL': 62.0, 'ARPLT_MAIN': 'PM25'}, {'MSRDT': '202106151300', 'MSRRGN_NM': '서남권', 'MSRSTE_NM': '동작구', 'PM10': 23.0, 'PM25': 12.0, 'O3': 0.019, 'NO2': 0.021, 'CO': 0.4, 'SO2': 0.003, 'IDEX_NM': '보통', 'IDEX_MVL': 61.0, 'ARPLT_MAIN': 'PM25'}, {'MSRDT': '202106151300', 'MSRRGN_NM': '서남권', 'MSRSTE_NM': '관악구', 'PM10': 22.0, 'PM25': 12.0, 'O3': 0.014, 'NO2': 0.026, 'CO': 0.4, 'SO2': 0.003, 'IDEX_NM': '보통', 'IDEX_MVL': 56.0, 'ARPLT_MAIN': 'PM25'}, {'MSRDT': '202106151300', 'MSRRGN_NM': '서남권', 'MSRSTE_NM': '금천구', 'PM10': 19.0, 'PM25': 13.0, 'O3': 0.026, 'NO2': 0.017, 'CO': 0.4, 'SO2': 0.003, 'IDEX_NM': '보통', 'IDEX_MVL': 56.0, 'ARPLT_MAIN': 'PM25'}, {'MSRDT': '202106151300', 'MSRRGN_NM': '서남권', 'MSRSTE_NM': '양천구', 'PM10': 19.0, 'PM25': 12.0, 'O3': 0.016, 'NO2': 0.022, 'CO': 0.4, 'SO2': 0.004, 'IDEX_NM': '보통', 'IDEX_MVL': 58.0, 'ARPLT_MAIN': 'PM25'}, {'MSRDT': '202106151300', 'MSRRGN_NM': '동남권', 'MSRSTE_NM': '강남구', 'PM10': 20.0, 'PM25': 11.0, 'O3': 0.012, 'NO2': 0.021, 'CO': 0.3, 'SO2': 0.003, 'IDEX_NM': '보통', 'IDEX_MVL': 58.0, 'ARPLT_MAIN': 'PM25'}, {'MSRDT': '202106151300', 'MSRRGN_NM': '동남권', 'MSRSTE_NM': '서초구', 'PM10': 16.0, 'PM25': 8.0, 'O3': 0.018, 'NO2': 0.021, 'CO': 0.4, 'SO2': 0.003, 'IDEX_NM': '보통', 'IDEX_MVL': 53.0, 'ARPLT_MAIN': 'PM25'}, {'MSRDT': '202106151300', 'MSRRGN_NM': '동남권', 'MSRSTE_NM': '송파구', 'PM10': 19.0, 'PM25': 14.0, 'O3': 0.021, 'NO2': 0.019, 'CO': 0.5, 'SO2': 0.003, 'IDEX_NM': '보통', 'IDEX_MVL': 59.0, 'ARPLT_MAIN': 'PM25'}, {'MSRDT': '202106151300', 'MSRRGN_NM': '동남권', 'MSRSTE_NM': '강동구', 'PM10': 14.0, 'PM25': 8.0, 'O3': 0.014, 'NO2': 0.011, 'CO': 0.4, 'SO2': 0.002, 'IDEX_NM': '보통', 'IDEX_MVL': 55.0, 'ARPLT_MAIN': 'PM25'}]}}\n"
     ]
    }
   ],
   "source": [
    "gu_json=json.loads(html.text)\n",
    "print(gu_json)"
   ]
  },
  {
   "cell_type": "code",
   "execution_count": 21,
   "metadata": {},
   "outputs": [
    {
     "name": "stdout",
     "output_type": "stream",
     "text": [
      "[{'MSRDT': '202106151300', 'MSRRGN_NM': '도심권', 'MSRSTE_NM': '중구', 'PM10': 18.0, 'PM25': 11.0, 'O3': 0.013, 'NO2': 0.022, 'CO': 0.4, 'SO2': 0.004, 'IDEX_NM': '보통', 'IDEX_MVL': 59.0, 'ARPLT_MAIN': 'PM25'}, {'MSRDT': '202106151300', 'MSRRGN_NM': '도심권', 'MSRSTE_NM': '종로구', 'PM10': 14.0, 'PM25': 9.0, 'O3': 0.018, 'NO2': 0.016, 'CO': 0.4, 'SO2': 0.003, 'IDEX_NM': '보통', 'IDEX_MVL': 53.0, 'ARPLT_MAIN': 'PM25'}, {'MSRDT': '202106151300', 'MSRRGN_NM': '도심권', 'MSRSTE_NM': '용산구', 'PM10': 17.0, 'PM25': 10.0, 'O3': 0.016, 'NO2': 0.013, 'CO': 0.3, 'SO2': 0.003, 'IDEX_NM': '보통', 'IDEX_MVL': 53.0, 'ARPLT_MAIN': 'PM25'}, {'MSRDT': '202106151300', 'MSRRGN_NM': '서북권', 'MSRSTE_NM': '은평구', 'PM10': 10.0, 'PM25': 7.0, 'O3': 0.019, 'NO2': 0.012, 'CO': 0.4, 'SO2': 0.002, 'IDEX_NM': '보통', 'IDEX_MVL': 52.0, 'ARPLT_MAIN': 'PM25'}, {'MSRDT': '202106151300', 'MSRRGN_NM': '서북권', 'MSRSTE_NM': '서대문구', 'PM10': 6.0, 'PM25': 6.0, 'O3': 0.019, 'NO2': 0.01, 'CO': 0.4, 'SO2': 0.003, 'IDEX_NM': '좋음', 'IDEX_MVL': 34.0, 'ARPLT_MAIN': 'PM10'}, {'MSRDT': '202106151300', 'MSRRGN_NM': '서북권', 'MSRSTE_NM': '마포구', 'PM10': 17.0, 'PM25': 10.0, 'O3': 0.015, 'NO2': 0.02, 'CO': 0.4, 'SO2': 0.003, 'IDEX_NM': '보통', 'IDEX_MVL': 55.0, 'ARPLT_MAIN': 'PM25'}, {'MSRDT': '202106151300', 'MSRRGN_NM': '동북권', 'MSRSTE_NM': '광진구', 'PM10': 16.0, 'PM25': 8.0, 'O3': 0.015, 'NO2': 0.016, 'CO': 0.4, 'SO2': 0.003, 'IDEX_NM': '좋음', 'IDEX_MVL': 46.0, 'ARPLT_MAIN': 'PM25'}, {'MSRDT': '202106151300', 'MSRRGN_NM': '동북권', 'MSRSTE_NM': '성동구', 'PM10': 13.0, 'PM25': 10.0, 'O3': 0.021, 'NO2': 0.013, 'CO': 0.3, 'SO2': 0.005, 'IDEX_NM': '보통', 'IDEX_MVL': 56.0, 'ARPLT_MAIN': 'PM25'}, {'MSRDT': '202106151300', 'MSRRGN_NM': '동북권', 'MSRSTE_NM': '중랑구', 'PM10': 15.0, 'PM25': 6.0, 'O3': 0.018, 'NO2': 0.012, 'CO': 0.3, 'SO2': 0.003, 'IDEX_NM': '보통', 'IDEX_MVL': 52.0, 'ARPLT_MAIN': 'PM25'}, {'MSRDT': '202106151300', 'MSRRGN_NM': '동북권', 'MSRSTE_NM': '동대문구', 'PM10': 17.0, 'PM25': 11.0, 'O3': 0.017, 'NO2': 0.017, 'CO': 0.3, 'SO2': 0.002, 'IDEX_NM': '보통', 'IDEX_MVL': 56.0, 'ARPLT_MAIN': 'PM25'}, {'MSRDT': '202106151300', 'MSRRGN_NM': '동북권', 'MSRSTE_NM': '성북구', 'PM10': 17.0, 'PM25': 6.0, 'O3': 0.015, 'NO2': 0.02, 'CO': 0.7, 'SO2': 0.002, 'IDEX_NM': '보통', 'IDEX_MVL': 51.0, 'ARPLT_MAIN': 'PM25'}, {'MSRDT': '202106151300', 'MSRRGN_NM': '동북권', 'MSRSTE_NM': '도봉구', 'PM10': 16.0, 'PM25': 6.0, 'O3': 0.017, 'NO2': 0.01, 'CO': 0.3, 'SO2': 0.003, 'IDEX_NM': '보통', 'IDEX_MVL': 51.0, 'ARPLT_MAIN': 'PM25'}, {'MSRDT': '202106151300', 'MSRRGN_NM': '동북권', 'MSRSTE_NM': '강북구', 'PM10': 14.0, 'PM25': 9.0, 'O3': 0.019, 'NO2': 0.013, 'CO': 0.3, 'SO2': 0.002, 'IDEX_NM': '보통', 'IDEX_MVL': 55.0, 'ARPLT_MAIN': 'PM25'}, {'MSRDT': '202106151300', 'MSRRGN_NM': '동북권', 'MSRSTE_NM': '노원구', 'PM10': 12.0, 'PM25': 6.0, 'O3': 0.024, 'NO2': 0.011, 'CO': 0.3, 'SO2': 0.003, 'IDEX_NM': '좋음', 'IDEX_MVL': 49.0, 'ARPLT_MAIN': 'PM25'}, {'MSRDT': '202106151300', 'MSRRGN_NM': '서남권', 'MSRSTE_NM': '강서구', 'PM10': 16.0, 'PM25': 13.0, 'O3': 0.019, 'NO2': 0.03, 'CO': 0.3, 'SO2': 0.002, 'IDEX_NM': '보통', 'IDEX_MVL': 62.0, 'ARPLT_MAIN': 'PM25'}, {'MSRDT': '202106151300', 'MSRRGN_NM': '서남권', 'MSRSTE_NM': '구로구', 'PM10': 11.0, 'PM25': 6.0, 'O3': 0.021, 'NO2': 0.02, 'CO': 0.4, 'SO2': 0.003, 'IDEX_NM': '보통', 'IDEX_MVL': 56.0, 'ARPLT_MAIN': 'PM25'}, {'MSRDT': '202106151300', 'MSRRGN_NM': '서남권', 'MSRSTE_NM': '영등포구', 'PM10': 17.0, 'PM25': 13.0, 'O3': 0.018, 'NO2': 0.024, 'CO': 0.5, 'SO2': 0.003, 'IDEX_NM': '보통', 'IDEX_MVL': 62.0, 'ARPLT_MAIN': 'PM25'}, {'MSRDT': '202106151300', 'MSRRGN_NM': '서남권', 'MSRSTE_NM': '동작구', 'PM10': 23.0, 'PM25': 12.0, 'O3': 0.019, 'NO2': 0.021, 'CO': 0.4, 'SO2': 0.003, 'IDEX_NM': '보통', 'IDEX_MVL': 61.0, 'ARPLT_MAIN': 'PM25'}, {'MSRDT': '202106151300', 'MSRRGN_NM': '서남권', 'MSRSTE_NM': '관악구', 'PM10': 22.0, 'PM25': 12.0, 'O3': 0.014, 'NO2': 0.026, 'CO': 0.4, 'SO2': 0.003, 'IDEX_NM': '보통', 'IDEX_MVL': 56.0, 'ARPLT_MAIN': 'PM25'}, {'MSRDT': '202106151300', 'MSRRGN_NM': '서남권', 'MSRSTE_NM': '금천구', 'PM10': 19.0, 'PM25': 13.0, 'O3': 0.026, 'NO2': 0.017, 'CO': 0.4, 'SO2': 0.003, 'IDEX_NM': '보통', 'IDEX_MVL': 56.0, 'ARPLT_MAIN': 'PM25'}, {'MSRDT': '202106151300', 'MSRRGN_NM': '서남권', 'MSRSTE_NM': '양천구', 'PM10': 19.0, 'PM25': 12.0, 'O3': 0.016, 'NO2': 0.022, 'CO': 0.4, 'SO2': 0.004, 'IDEX_NM': '보통', 'IDEX_MVL': 58.0, 'ARPLT_MAIN': 'PM25'}, {'MSRDT': '202106151300', 'MSRRGN_NM': '동남권', 'MSRSTE_NM': '강남구', 'PM10': 20.0, 'PM25': 11.0, 'O3': 0.012, 'NO2': 0.021, 'CO': 0.3, 'SO2': 0.003, 'IDEX_NM': '보통', 'IDEX_MVL': 58.0, 'ARPLT_MAIN': 'PM25'}, {'MSRDT': '202106151300', 'MSRRGN_NM': '동남권', 'MSRSTE_NM': '서초구', 'PM10': 16.0, 'PM25': 8.0, 'O3': 0.018, 'NO2': 0.021, 'CO': 0.4, 'SO2': 0.003, 'IDEX_NM': '보통', 'IDEX_MVL': 53.0, 'ARPLT_MAIN': 'PM25'}, {'MSRDT': '202106151300', 'MSRRGN_NM': '동남권', 'MSRSTE_NM': '송파구', 'PM10': 19.0, 'PM25': 14.0, 'O3': 0.021, 'NO2': 0.019, 'CO': 0.5, 'SO2': 0.003, 'IDEX_NM': '보통', 'IDEX_MVL': 59.0, 'ARPLT_MAIN': 'PM25'}, {'MSRDT': '202106151300', 'MSRRGN_NM': '동남권', 'MSRSTE_NM': '강동구', 'PM10': 14.0, 'PM25': 8.0, 'O3': 0.014, 'NO2': 0.011, 'CO': 0.4, 'SO2': 0.002, 'IDEX_NM': '보통', 'IDEX_MVL': 55.0, 'ARPLT_MAIN': 'PM25'}]\n"
     ]
    }
   ],
   "source": [
    "print(gu_json['RealtimeCityAir']['row'])"
   ]
  },
  {
   "cell_type": "code",
   "execution_count": 23,
   "metadata": {},
   "outputs": [
    {
     "name": "stdout",
     "output_type": "stream",
     "text": [
      "202106151300\n"
     ]
    }
   ],
   "source": [
    "print(gu_json['RealtimeCityAir']['row'][0]['MSRDT'])"
   ]
  },
  {
   "cell_type": "code",
   "execution_count": 26,
   "metadata": {},
   "outputs": [
    {
     "name": "stdout",
     "output_type": "stream",
     "text": [
      "중구 18.0 11.0\n",
      "종로구 14.0 9.0\n",
      "용산구 17.0 10.0\n",
      "은평구 10.0 7.0\n",
      "서대문구 6.0 6.0\n",
      "마포구 17.0 10.0\n",
      "광진구 16.0 8.0\n",
      "성동구 13.0 10.0\n",
      "중랑구 15.0 6.0\n",
      "동대문구 17.0 11.0\n",
      "성북구 17.0 6.0\n",
      "도봉구 16.0 6.0\n",
      "강북구 14.0 9.0\n",
      "노원구 12.0 6.0\n",
      "강서구 16.0 13.0\n",
      "구로구 11.0 6.0\n",
      "영등포구 17.0 13.0\n",
      "동작구 23.0 12.0\n",
      "관악구 22.0 12.0\n",
      "금천구 19.0 13.0\n",
      "양천구 19.0 12.0\n",
      "강남구 20.0 11.0\n",
      "서초구 16.0 8.0\n",
      "송파구 19.0 14.0\n",
      "강동구 14.0 8.0\n"
     ]
    }
   ],
   "source": [
    "for values in gu_json['RealtimeCityAir']['row']:\n",
    "    print(values['MSRSTE_NM'],end=\" \")\n",
    "    print(values['PM10'],end=\" \")\n",
    "    print(values['PM25'])"
   ]
  },
  {
   "cell_type": "code",
   "execution_count": 34,
   "metadata": {},
   "outputs": [
    {
     "name": "stdout",
     "output_type": "stream",
     "text": [
      "[['20210615', '13:00', '중구', 18.0, 11.0, '좋음'], ['20210615', '13:00', '종로구', 14.0, 9.0, '좋음'], ['20210615', '13:00', '용산구', 17.0, 10.0, '좋음'], ['20210615', '13:00', '은평구', 10.0, 7.0, '좋음'], ['20210615', '13:00', '서대문구', 6.0, 6.0, '좋음'], ['20210615', '13:00', '마포구', 17.0, 10.0, '좋음'], ['20210615', '13:00', '광진구', 16.0, 8.0, '좋음'], ['20210615', '13:00', '성동구', 13.0, 10.0, '좋음'], ['20210615', '13:00', '중랑구', 15.0, 6.0, '좋음'], ['20210615', '13:00', '동대문구', 17.0, 11.0, '좋음'], ['20210615', '13:00', '성북구', 17.0, 6.0, '좋음'], ['20210615', '13:00', '도봉구', 16.0, 6.0, '좋음'], ['20210615', '13:00', '강북구', 14.0, 9.0, '좋음'], ['20210615', '13:00', '노원구', 12.0, 6.0, '좋음'], ['20210615', '13:00', '강서구', 16.0, 13.0, '좋음'], ['20210615', '13:00', '구로구', 11.0, 6.0, '좋음'], ['20210615', '13:00', '영등포구', 17.0, 13.0, '좋음'], ['20210615', '13:00', '동작구', 23.0, 12.0, '좋음'], ['20210615', '13:00', '관악구', 22.0, 12.0, '좋음'], ['20210615', '13:00', '금천구', 19.0, 13.0, '좋음'], ['20210615', '13:00', '양천구', 19.0, 12.0, '좋음'], ['20210615', '13:00', '강남구', 20.0, 11.0, '좋음'], ['20210615', '13:00', '서초구', 16.0, 8.0, '좋음'], ['20210615', '13:00', '송파구', 19.0, 14.0, '좋음'], ['20210615', '13:00', '강동구', 14.0, 8.0, '좋음']]\n"
     ]
    }
   ],
   "source": [
    "seoul_misae=[]\n",
    "seoul_\n",
    "\n",
    "for values in gu_json['RealtimeCityAir']['row']:\n",
    "    days=values['MSRDT'][:8]\n",
    "    time=values['MSRDT'][8:10]+\":\"+values['MSRDT'][10:]\n",
    "    name=values['MSRSTE_NM']\n",
    "    pm10=values['PM10']\n",
    "    pm25=values['PM25']\n",
    "    if pm25>75:\n",
    "        state=\"매우나쁨\"\n",
    "    elif pm25>=35:\n",
    "        state=\"나쁨\"\n",
    "    elif pm25>=15:\n",
    "        state=\"보통\"\n",
    "    elif pm25>=0:\n",
    "        state=\"좋음\"\n",
    "    seoul_misae.append([days,time,name,pm10,pm25,state])\n",
    "print(seoul_misae)"
   ]
  },
  {
   "cell_type": "code",
   "execution_count": 49,
   "metadata": {},
   "outputs": [
    {
     "name": "stdout",
     "output_type": "stream",
     "text": [
      "20210615 13:00 중구 18.0 11.0\n",
      "20210615 13:00 종로구 14.0 9.0\n",
      "20210615 13:00 용산구 17.0 10.0\n",
      "20210615 13:00 은평구 10.0 7.0\n",
      "20210615 13:00 서대문구 6.0 6.0\n",
      "20210615 13:00 마포구 17.0 10.0\n",
      "20210615 13:00 광진구 16.0 8.0\n",
      "20210615 13:00 성동구 13.0 10.0\n",
      "20210615 13:00 중랑구 15.0 6.0\n",
      "20210615 13:00 동대문구 17.0 11.0\n",
      "20210615 13:00 성북구 17.0 6.0\n",
      "20210615 13:00 도봉구 16.0 6.0\n",
      "20210615 13:00 강북구 14.0 9.0\n",
      "20210615 13:00 노원구 12.0 6.0\n",
      "20210615 13:00 강서구 16.0 13.0\n",
      "20210615 13:00 구로구 11.0 6.0\n",
      "20210615 13:00 영등포구 17.0 13.0\n",
      "20210615 13:00 동작구 23.0 12.0\n",
      "20210615 13:00 관악구 22.0 12.0\n",
      "20210615 13:00 금천구 19.0 13.0\n",
      "20210615 13:00 양천구 19.0 12.0\n",
      "20210615 13:00 강남구 20.0 11.0\n",
      "20210615 13:00 서초구 16.0 8.0\n",
      "20210615 13:00 송파구 19.0 14.0\n",
      "20210615 13:00 강동구 14.0 8.0\n"
     ]
    }
   ],
   "source": [
    "for i in range(len(seoul_misae)):\n",
    "    print(seoul_misae[i][0],seoul_misae[i][1],seoul_misae[i][2],seoul_misae[i][3],seoul_misae[i][4],)"
   ]
  },
  {
   "cell_type": "code",
   "execution_count": 35,
   "metadata": {},
   "outputs": [
    {
     "data": {
      "text/html": [
       "<div>\n",
       "<style scoped>\n",
       "    .dataframe tbody tr th:only-of-type {\n",
       "        vertical-align: middle;\n",
       "    }\n",
       "\n",
       "    .dataframe tbody tr th {\n",
       "        vertical-align: top;\n",
       "    }\n",
       "\n",
       "    .dataframe thead th {\n",
       "        text-align: right;\n",
       "    }\n",
       "</style>\n",
       "<table border=\"1\" class=\"dataframe\">\n",
       "  <thead>\n",
       "    <tr style=\"text-align: right;\">\n",
       "      <th></th>\n",
       "      <th>연월일</th>\n",
       "      <th>시간</th>\n",
       "      <th>지역구</th>\n",
       "      <th>미세먼지(PM10)</th>\n",
       "      <th>미세먼지(PM25)</th>\n",
       "      <th>상태</th>\n",
       "    </tr>\n",
       "  </thead>\n",
       "  <tbody>\n",
       "    <tr>\n",
       "      <th>0</th>\n",
       "      <td>20210615</td>\n",
       "      <td>13:00</td>\n",
       "      <td>중구</td>\n",
       "      <td>18.0</td>\n",
       "      <td>11.0</td>\n",
       "      <td>좋음</td>\n",
       "    </tr>\n",
       "    <tr>\n",
       "      <th>1</th>\n",
       "      <td>20210615</td>\n",
       "      <td>13:00</td>\n",
       "      <td>종로구</td>\n",
       "      <td>14.0</td>\n",
       "      <td>9.0</td>\n",
       "      <td>좋음</td>\n",
       "    </tr>\n",
       "    <tr>\n",
       "      <th>2</th>\n",
       "      <td>20210615</td>\n",
       "      <td>13:00</td>\n",
       "      <td>용산구</td>\n",
       "      <td>17.0</td>\n",
       "      <td>10.0</td>\n",
       "      <td>좋음</td>\n",
       "    </tr>\n",
       "    <tr>\n",
       "      <th>3</th>\n",
       "      <td>20210615</td>\n",
       "      <td>13:00</td>\n",
       "      <td>은평구</td>\n",
       "      <td>10.0</td>\n",
       "      <td>7.0</td>\n",
       "      <td>좋음</td>\n",
       "    </tr>\n",
       "    <tr>\n",
       "      <th>4</th>\n",
       "      <td>20210615</td>\n",
       "      <td>13:00</td>\n",
       "      <td>서대문구</td>\n",
       "      <td>6.0</td>\n",
       "      <td>6.0</td>\n",
       "      <td>좋음</td>\n",
       "    </tr>\n",
       "    <tr>\n",
       "      <th>5</th>\n",
       "      <td>20210615</td>\n",
       "      <td>13:00</td>\n",
       "      <td>마포구</td>\n",
       "      <td>17.0</td>\n",
       "      <td>10.0</td>\n",
       "      <td>좋음</td>\n",
       "    </tr>\n",
       "    <tr>\n",
       "      <th>6</th>\n",
       "      <td>20210615</td>\n",
       "      <td>13:00</td>\n",
       "      <td>광진구</td>\n",
       "      <td>16.0</td>\n",
       "      <td>8.0</td>\n",
       "      <td>좋음</td>\n",
       "    </tr>\n",
       "    <tr>\n",
       "      <th>7</th>\n",
       "      <td>20210615</td>\n",
       "      <td>13:00</td>\n",
       "      <td>성동구</td>\n",
       "      <td>13.0</td>\n",
       "      <td>10.0</td>\n",
       "      <td>좋음</td>\n",
       "    </tr>\n",
       "    <tr>\n",
       "      <th>8</th>\n",
       "      <td>20210615</td>\n",
       "      <td>13:00</td>\n",
       "      <td>중랑구</td>\n",
       "      <td>15.0</td>\n",
       "      <td>6.0</td>\n",
       "      <td>좋음</td>\n",
       "    </tr>\n",
       "    <tr>\n",
       "      <th>9</th>\n",
       "      <td>20210615</td>\n",
       "      <td>13:00</td>\n",
       "      <td>동대문구</td>\n",
       "      <td>17.0</td>\n",
       "      <td>11.0</td>\n",
       "      <td>좋음</td>\n",
       "    </tr>\n",
       "    <tr>\n",
       "      <th>10</th>\n",
       "      <td>20210615</td>\n",
       "      <td>13:00</td>\n",
       "      <td>성북구</td>\n",
       "      <td>17.0</td>\n",
       "      <td>6.0</td>\n",
       "      <td>좋음</td>\n",
       "    </tr>\n",
       "    <tr>\n",
       "      <th>11</th>\n",
       "      <td>20210615</td>\n",
       "      <td>13:00</td>\n",
       "      <td>도봉구</td>\n",
       "      <td>16.0</td>\n",
       "      <td>6.0</td>\n",
       "      <td>좋음</td>\n",
       "    </tr>\n",
       "    <tr>\n",
       "      <th>12</th>\n",
       "      <td>20210615</td>\n",
       "      <td>13:00</td>\n",
       "      <td>강북구</td>\n",
       "      <td>14.0</td>\n",
       "      <td>9.0</td>\n",
       "      <td>좋음</td>\n",
       "    </tr>\n",
       "    <tr>\n",
       "      <th>13</th>\n",
       "      <td>20210615</td>\n",
       "      <td>13:00</td>\n",
       "      <td>노원구</td>\n",
       "      <td>12.0</td>\n",
       "      <td>6.0</td>\n",
       "      <td>좋음</td>\n",
       "    </tr>\n",
       "    <tr>\n",
       "      <th>14</th>\n",
       "      <td>20210615</td>\n",
       "      <td>13:00</td>\n",
       "      <td>강서구</td>\n",
       "      <td>16.0</td>\n",
       "      <td>13.0</td>\n",
       "      <td>좋음</td>\n",
       "    </tr>\n",
       "    <tr>\n",
       "      <th>15</th>\n",
       "      <td>20210615</td>\n",
       "      <td>13:00</td>\n",
       "      <td>구로구</td>\n",
       "      <td>11.0</td>\n",
       "      <td>6.0</td>\n",
       "      <td>좋음</td>\n",
       "    </tr>\n",
       "    <tr>\n",
       "      <th>16</th>\n",
       "      <td>20210615</td>\n",
       "      <td>13:00</td>\n",
       "      <td>영등포구</td>\n",
       "      <td>17.0</td>\n",
       "      <td>13.0</td>\n",
       "      <td>좋음</td>\n",
       "    </tr>\n",
       "    <tr>\n",
       "      <th>17</th>\n",
       "      <td>20210615</td>\n",
       "      <td>13:00</td>\n",
       "      <td>동작구</td>\n",
       "      <td>23.0</td>\n",
       "      <td>12.0</td>\n",
       "      <td>좋음</td>\n",
       "    </tr>\n",
       "    <tr>\n",
       "      <th>18</th>\n",
       "      <td>20210615</td>\n",
       "      <td>13:00</td>\n",
       "      <td>관악구</td>\n",
       "      <td>22.0</td>\n",
       "      <td>12.0</td>\n",
       "      <td>좋음</td>\n",
       "    </tr>\n",
       "    <tr>\n",
       "      <th>19</th>\n",
       "      <td>20210615</td>\n",
       "      <td>13:00</td>\n",
       "      <td>금천구</td>\n",
       "      <td>19.0</td>\n",
       "      <td>13.0</td>\n",
       "      <td>좋음</td>\n",
       "    </tr>\n",
       "    <tr>\n",
       "      <th>20</th>\n",
       "      <td>20210615</td>\n",
       "      <td>13:00</td>\n",
       "      <td>양천구</td>\n",
       "      <td>19.0</td>\n",
       "      <td>12.0</td>\n",
       "      <td>좋음</td>\n",
       "    </tr>\n",
       "    <tr>\n",
       "      <th>21</th>\n",
       "      <td>20210615</td>\n",
       "      <td>13:00</td>\n",
       "      <td>강남구</td>\n",
       "      <td>20.0</td>\n",
       "      <td>11.0</td>\n",
       "      <td>좋음</td>\n",
       "    </tr>\n",
       "    <tr>\n",
       "      <th>22</th>\n",
       "      <td>20210615</td>\n",
       "      <td>13:00</td>\n",
       "      <td>서초구</td>\n",
       "      <td>16.0</td>\n",
       "      <td>8.0</td>\n",
       "      <td>좋음</td>\n",
       "    </tr>\n",
       "    <tr>\n",
       "      <th>23</th>\n",
       "      <td>20210615</td>\n",
       "      <td>13:00</td>\n",
       "      <td>송파구</td>\n",
       "      <td>19.0</td>\n",
       "      <td>14.0</td>\n",
       "      <td>좋음</td>\n",
       "    </tr>\n",
       "    <tr>\n",
       "      <th>24</th>\n",
       "      <td>20210615</td>\n",
       "      <td>13:00</td>\n",
       "      <td>강동구</td>\n",
       "      <td>14.0</td>\n",
       "      <td>8.0</td>\n",
       "      <td>좋음</td>\n",
       "    </tr>\n",
       "  </tbody>\n",
       "</table>\n",
       "</div>"
      ],
      "text/plain": [
       "         연월일     시간   지역구  미세먼지(PM10)  미세먼지(PM25)  상태\n",
       "0   20210615  13:00    중구        18.0        11.0  좋음\n",
       "1   20210615  13:00   종로구        14.0         9.0  좋음\n",
       "2   20210615  13:00   용산구        17.0        10.0  좋음\n",
       "3   20210615  13:00   은평구        10.0         7.0  좋음\n",
       "4   20210615  13:00  서대문구         6.0         6.0  좋음\n",
       "5   20210615  13:00   마포구        17.0        10.0  좋음\n",
       "6   20210615  13:00   광진구        16.0         8.0  좋음\n",
       "7   20210615  13:00   성동구        13.0        10.0  좋음\n",
       "8   20210615  13:00   중랑구        15.0         6.0  좋음\n",
       "9   20210615  13:00  동대문구        17.0        11.0  좋음\n",
       "10  20210615  13:00   성북구        17.0         6.0  좋음\n",
       "11  20210615  13:00   도봉구        16.0         6.0  좋음\n",
       "12  20210615  13:00   강북구        14.0         9.0  좋음\n",
       "13  20210615  13:00   노원구        12.0         6.0  좋음\n",
       "14  20210615  13:00   강서구        16.0        13.0  좋음\n",
       "15  20210615  13:00   구로구        11.0         6.0  좋음\n",
       "16  20210615  13:00  영등포구        17.0        13.0  좋음\n",
       "17  20210615  13:00   동작구        23.0        12.0  좋음\n",
       "18  20210615  13:00   관악구        22.0        12.0  좋음\n",
       "19  20210615  13:00   금천구        19.0        13.0  좋음\n",
       "20  20210615  13:00   양천구        19.0        12.0  좋음\n",
       "21  20210615  13:00   강남구        20.0        11.0  좋음\n",
       "22  20210615  13:00   서초구        16.0         8.0  좋음\n",
       "23  20210615  13:00   송파구        19.0        14.0  좋음\n",
       "24  20210615  13:00   강동구        14.0         8.0  좋음"
      ]
     },
     "execution_count": 35,
     "metadata": {},
     "output_type": "execute_result"
    }
   ],
   "source": [
    "import pandas as pd\n",
    "\n",
    "columns=['연월일','시간','지역구','미세먼지(PM10)','미세먼지(PM25)',\"상태\"]\n",
    "seoul_misae_df=pd.DataFrame(seoul_misae,columns=columns)\n",
    "seoul_misae_df"
   ]
  },
  {
   "cell_type": "code",
   "execution_count": 38,
   "metadata": {},
   "outputs": [],
   "source": [
    "seoul_misae_df.to_csv('seoul_misae_ByKimJaehong.csv',encoding='euc-kr',index=False)"
   ]
  },
  {
   "cell_type": "code",
   "execution_count": 46,
   "metadata": {},
   "outputs": [
    {
     "data": {
      "text/plain": [
       "<matplotlib.legend.Legend at 0x1619898820>"
      ]
     },
     "execution_count": 46,
     "metadata": {},
     "output_type": "execute_result"
    },
    {
     "data": {
      "image/png": "[encoded data removed]",
      "text/plain": [
       "<Figure size 864x288 with 1 Axes>"
      ]
     },
     "metadata": {
      "needs_background": "light"
     },
     "output_type": "display_data"
    }
   ],
   "source": [
    "seoul_misae_df2=seoul_misae_df.set_index(\"지역구\")\n",
    "\n",
    "import matplotlib as mpl\n",
    "font_name = mpl.font_manager.FontProperties(fname='C:/Windows/Fonts/malgun.ttf').get_name()\n",
    "mpl.rc('font', family=font_name)\n",
    "\n",
    "ax = seoul_misae_df2.plot(kind='bar', title='2021년 6월 15일 13:00 기준', figsize=(12, 4), legend=True, fontsize=12)\n",
    "ax.set_xlabel('지역구', fontsize=12)          # x축 정보 표시\n",
    "ax.set_ylabel('PM10/PM25', fontsize=12)     # y축 정보 표시\n",
    "ax.legend(['PM10', 'PM25'], fontsize=12)    # 범례 지정"
   ]
  },
  {
   "cell_type": "code",
   "execution_count": 47,
   "metadata": {},
   "outputs": [
    {
     "ename": "AttributeError",
     "evalue": "'AxesSubplot' object has no attribute 'show'",
     "output_type": "error",
     "traceback": [
      "\u001b[1;31m---------------------------------------------------------------------------\u001b[0m",
      "\u001b[1;31mAttributeError\u001b[0m                            Traceback (most recent call last)",
      "\u001b[1;32m<ipython-input-47-ece30bd5e827>\u001b[0m in \u001b[0;36m<module>\u001b[1;34m\u001b[0m\n\u001b[1;32m----> 1\u001b[1;33m \u001b[0max\u001b[0m\u001b[1;33m.\u001b[0m\u001b[0mshow\u001b[0m\u001b[1;33m(\u001b[0m\u001b[1;33m)\u001b[0m\u001b[1;33m\u001b[0m\u001b[1;33m\u001b[0m\u001b[0m\n\u001b[0m",
      "\u001b[1;31mAttributeError\u001b[0m: 'AxesSubplot' object has no attribute 'show'"
     ]
    }
   ],
   "source": []
  },
  {
   "cell_type": "code",
   "execution_count": null,
   "metadata": {},
   "outputs": [],
   "source": []
  }
 ],
 "metadata": {
  "kernelspec": {
   "display_name": "Python 3",
   "language": "python",
   "name": "python3"
  },
  "language_info": {
   "codemirror_mode": {
    "name": "ipython",
    "version": 3
   },
   "file_extension": ".py",
   "mimetype": "text/x-python",
   "name": "python",
   "nbconvert_exporter": "python",
   "pygments_lexer": "ipython3",
   "version": "3.8.5"
  }
 },
 "nbformat": 4,
 "nbformat_minor": 4
}
