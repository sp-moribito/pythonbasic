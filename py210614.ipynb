{
  "nbformat": 4,
  "nbformat_minor": 0,
  "metadata": {
    "colab": {
      "name": "py210614.ipynb",
      "provenance": [],
      "authorship_tag": "ABX9TyNjnL5Du5IC57RhU0szZMzu",
      "include_colab_link": true
    },
    "kernelspec": {
      "name": "python3",
      "display_name": "Python 3"
    },
    "language_info": {
      "name": "python"
    },
    "widgets": {
      "application/vnd.jupyter.widget-state+json": {
        "a396ea9fe5184efd8deacd6c17d05a9a": {
          "model_module": "@jupyter-widgets/controls",
          "model_name": "HBoxModel",
          "state": {
            "_view_name": "HBoxView",
            "_dom_classes": [],
            "_model_name": "HBoxModel",
            "_view_module": "@jupyter-widgets/controls",
            "_model_module_version": "1.5.0",
            "_view_count": null,
            "_view_module_version": "1.5.0",
            "box_style": "",
            "layout": "IPY_MODEL_7dea583160a74d9d957e9c862a929f13",
            "_model_module": "@jupyter-widgets/controls",
            "children": [
              "IPY_MODEL_3d315b32f5e5472b9fd930750df267f2",
              "IPY_MODEL_b47590e22ba0481e9ea1455c004078be"
            ]
          }
        },
        "7dea583160a74d9d957e9c862a929f13": {
          "model_module": "@jupyter-widgets/base",
          "model_name": "LayoutModel",
          "state": {
            "_view_name": "LayoutView",
            "grid_template_rows": null,
            "right": null,
            "justify_content": null,
            "_view_module": "@jupyter-widgets/base",
            "overflow": null,
            "_model_module_version": "1.2.0",
            "_view_count": null,
            "flex_flow": null,
            "width": null,
            "min_width": null,
            "border": null,
            "align_items": null,
            "bottom": null,
            "_model_module": "@jupyter-widgets/base",
            "top": null,
            "grid_column": null,
            "overflow_y": null,
            "overflow_x": null,
            "grid_auto_flow": null,
            "grid_area": null,
            "grid_template_columns": null,
            "flex": null,
            "_model_name": "LayoutModel",
            "justify_items": null,
            "grid_row": null,
            "max_height": null,
            "align_content": null,
            "visibility": null,
            "align_self": null,
            "height": null,
            "min_height": null,
            "padding": null,
            "grid_auto_rows": null,
            "grid_gap": null,
            "max_width": null,
            "order": null,
            "_view_module_version": "1.2.0",
            "grid_template_areas": null,
            "object_position": null,
            "object_fit": null,
            "grid_auto_columns": null,
            "margin": null,
            "display": null,
            "left": null
          }
        },
        "3d315b32f5e5472b9fd930750df267f2": {
          "model_module": "@jupyter-widgets/controls",
          "model_name": "FloatProgressModel",
          "state": {
            "_view_name": "ProgressView",
            "style": "IPY_MODEL_311f3470c193459c83450ce9f18425d6",
            "_dom_classes": [],
            "description": "Dl Completed...: 100%",
            "_model_name": "FloatProgressModel",
            "bar_style": "success",
            "max": 4,
            "_view_module": "@jupyter-widgets/controls",
            "_model_module_version": "1.5.0",
            "value": 4,
            "_view_count": null,
            "_view_module_version": "1.5.0",
            "orientation": "horizontal",
            "min": 0,
            "description_tooltip": null,
            "_model_module": "@jupyter-widgets/controls",
            "layout": "IPY_MODEL_2eba6f645dab45dab25bd8e10b0cc7e2"
          }
        },
        "b47590e22ba0481e9ea1455c004078be": {
          "model_module": "@jupyter-widgets/controls",
          "model_name": "HTMLModel",
          "state": {
            "_view_name": "HTMLView",
            "style": "IPY_MODEL_e1f6b255f0be4df9a547249e71fdfc6e",
            "_dom_classes": [],
            "description": "",
            "_model_name": "HTMLModel",
            "placeholder": "​",
            "_view_module": "@jupyter-widgets/controls",
            "_model_module_version": "1.5.0",
            "value": " 4/4 [00:00&lt;00:00,  6.54 file/s]",
            "_view_count": null,
            "_view_module_version": "1.5.0",
            "description_tooltip": null,
            "_model_module": "@jupyter-widgets/controls",
            "layout": "IPY_MODEL_e2c048065cf9420ebfe9019b024477ad"
          }
        },
        "311f3470c193459c83450ce9f18425d6": {
          "model_module": "@jupyter-widgets/controls",
          "model_name": "ProgressStyleModel",
          "state": {
            "_view_name": "StyleView",
            "_model_name": "ProgressStyleModel",
            "description_width": "initial",
            "_view_module": "@jupyter-widgets/base",
            "_model_module_version": "1.5.0",
            "_view_count": null,
            "_view_module_version": "1.2.0",
            "bar_color": null,
            "_model_module": "@jupyter-widgets/controls"
          }
        },
        "2eba6f645dab45dab25bd8e10b0cc7e2": {
          "model_module": "@jupyter-widgets/base",
          "model_name": "LayoutModel",
          "state": {
            "_view_name": "LayoutView",
            "grid_template_rows": null,
            "right": null,
            "justify_content": null,
            "_view_module": "@jupyter-widgets/base",
            "overflow": null,
            "_model_module_version": "1.2.0",
            "_view_count": null,
            "flex_flow": null,
            "width": null,
            "min_width": null,
            "border": null,
            "align_items": null,
            "bottom": null,
            "_model_module": "@jupyter-widgets/base",
            "top": null,
            "grid_column": null,
            "overflow_y": null,
            "overflow_x": null,
            "grid_auto_flow": null,
            "grid_area": null,
            "grid_template_columns": null,
            "flex": null,
            "_model_name": "LayoutModel",
            "justify_items": null,
            "grid_row": null,
            "max_height": null,
            "align_content": null,
            "visibility": null,
            "align_self": null,
            "height": null,
            "min_height": null,
            "padding": null,
            "grid_auto_rows": null,
            "grid_gap": null,
            "max_width": null,
            "order": null,
            "_view_module_version": "1.2.0",
            "grid_template_areas": null,
            "object_position": null,
            "object_fit": null,
            "grid_auto_columns": null,
            "margin": null,
            "display": null,
            "left": null
          }
        },
        "e1f6b255f0be4df9a547249e71fdfc6e": {
          "model_module": "@jupyter-widgets/controls",
          "model_name": "DescriptionStyleModel",
          "state": {
            "_view_name": "StyleView",
            "_model_name": "DescriptionStyleModel",
            "description_width": "",
            "_view_module": "@jupyter-widgets/base",
            "_model_module_version": "1.5.0",
            "_view_count": null,
            "_view_module_version": "1.2.0",
            "_model_module": "@jupyter-widgets/controls"
          }
        },
        "e2c048065cf9420ebfe9019b024477ad": {
          "model_module": "@jupyter-widgets/base",
          "model_name": "LayoutModel",
          "state": {
            "_view_name": "LayoutView",
            "grid_template_rows": null,
            "right": null,
            "justify_content": null,
            "_view_module": "@jupyter-widgets/base",
            "overflow": null,
            "_model_module_version": "1.2.0",
            "_view_count": null,
            "flex_flow": null,
            "width": null,
            "min_width": null,
            "border": null,
            "align_items": null,
            "bottom": null,
            "_model_module": "@jupyter-widgets/base",
            "top": null,
            "grid_column": null,
            "overflow_y": null,
            "overflow_x": null,
            "grid_auto_flow": null,
            "grid_area": null,
            "grid_template_columns": null,
            "flex": null,
            "_model_name": "LayoutModel",
            "justify_items": null,
            "grid_row": null,
            "max_height": null,
            "align_content": null,
            "visibility": null,
            "align_self": null,
            "height": null,
            "min_height": null,
            "padding": null,
            "grid_auto_rows": null,
            "grid_gap": null,
            "max_width": null,
            "order": null,
            "_view_module_version": "1.2.0",
            "grid_template_areas": null,
            "object_position": null,
            "object_fit": null,
            "grid_auto_columns": null,
            "margin": null,
            "display": null,
            "left": null
          }
        }
      }
    }
  },
  "cells": [
    {
      "cell_type": "markdown",
      "metadata": {
        "id": "view-in-github",
        "colab_type": "text"
      },
      "source": [
        "<a href=\"https://colab.research.google.com/github/sp-moribito/pythonbasic/blob/main/py210614.ipynb\" target=\"_parent\"><img src=\"https://colab.research.google.com/assets/colab-badge.svg\" alt=\"Open In Colab\"/></a>"
      ]
    },
    {
      "cell_type": "code",
      "metadata": {
        "colab": {
          "base_uri": "https://localhost:8080/",
          "height": 226
        },
        "id": "OTjHMaEg_7fa",
        "outputId": "eca6fb49-44ab-4c19-d6f4-fddfe948af31"
      },
      "source": [
        "import tensorflow as tf\n",
        "sess=tf.Session()\n",
        "hello=tf.constant('hello')\n",
        "print(sess.run(hello))\n",
        "\n",
        "# tensorflow 1.버전대라서 아래와 같은 오류 발생"
      ],
      "execution_count": null,
      "outputs": [
        {
          "output_type": "error",
          "ename": "AttributeError",
          "evalue": "ignored",
          "traceback": [
            "\u001b[0;31m---------------------------------------------------------------------------\u001b[0m",
            "\u001b[0;31mAttributeError\u001b[0m                            Traceback (most recent call last)",
            "\u001b[0;32m<ipython-input-1-50aaa6b51d91>\u001b[0m in \u001b[0;36m<module>\u001b[0;34m()\u001b[0m\n\u001b[1;32m      1\u001b[0m \u001b[0;32mimport\u001b[0m \u001b[0mtensorflow\u001b[0m \u001b[0;32mas\u001b[0m \u001b[0mtf\u001b[0m\u001b[0;34m\u001b[0m\u001b[0;34m\u001b[0m\u001b[0m\n\u001b[0;32m----> 2\u001b[0;31m \u001b[0msess\u001b[0m\u001b[0;34m=\u001b[0m\u001b[0mtf\u001b[0m\u001b[0;34m.\u001b[0m\u001b[0mSession\u001b[0m\u001b[0;34m(\u001b[0m\u001b[0;34m)\u001b[0m\u001b[0;34m\u001b[0m\u001b[0;34m\u001b[0m\u001b[0m\n\u001b[0m\u001b[1;32m      3\u001b[0m \u001b[0mhello\u001b[0m\u001b[0;34m=\u001b[0m\u001b[0mtf\u001b[0m\u001b[0;34m.\u001b[0m\u001b[0mconstant\u001b[0m\u001b[0;34m(\u001b[0m\u001b[0;34m'hello'\u001b[0m\u001b[0;34m)\u001b[0m\u001b[0;34m\u001b[0m\u001b[0;34m\u001b[0m\u001b[0m\n\u001b[1;32m      4\u001b[0m \u001b[0mprint\u001b[0m\u001b[0;34m(\u001b[0m\u001b[0msess\u001b[0m\u001b[0;34m.\u001b[0m\u001b[0mrun\u001b[0m\u001b[0;34m(\u001b[0m\u001b[0mhello\u001b[0m\u001b[0;34m)\u001b[0m\u001b[0;34m)\u001b[0m\u001b[0;34m\u001b[0m\u001b[0;34m\u001b[0m\u001b[0m\n",
            "\u001b[0;31mAttributeError\u001b[0m: module 'tensorflow' has no attribute 'Session'"
          ]
        }
      ]
    },
    {
      "cell_type": "code",
      "metadata": {
        "colab": {
          "base_uri": "https://localhost:8080/"
        },
        "id": "Wv-Fw7tjAMBY",
        "outputId": "703d7f68-2ee0-4199-cbf5-accd42fa7069"
      },
      "source": [
        "# tensorflow 2.버전대는 아래와 같이 사용한다\n",
        "\n",
        "import tensorflow as tf\n",
        "\n",
        "with tf.compat.v1.Session() as sess:\n",
        "  hello=tf.constant('Kimjaehong')\n",
        "  print(sess.run(hello))"
      ],
      "execution_count": null,
      "outputs": [
        {
          "output_type": "stream",
          "text": [
            "b'Kimjaehong'\n"
          ],
          "name": "stdout"
        }
      ]
    },
    {
      "cell_type": "code",
      "metadata": {
        "colab": {
          "base_uri": "https://localhost:8080/",
          "height": 208
        },
        "id": "h6KSFQCKBBHR",
        "outputId": "07798ffc-bc3b-440e-f1a5-01c3fa5f0ce1"
      },
      "source": [
        "import tensorflow as tf\n",
        "import numpy as np\n",
        "\n",
        "x = np.random.sample((100,3)) # 난수 생성\n",
        "dataset = tf.data.Dataset.from_tensor_slices(x)"
      ],
      "execution_count": null,
      "outputs": [
        {
          "output_type": "error",
          "ename": "NameError",
          "evalue": "ignored",
          "traceback": [
            "\u001b[0;31m---------------------------------------------------------------------------\u001b[0m",
            "\u001b[0;31mNameError\u001b[0m                                 Traceback (most recent call last)",
            "\u001b[0;32m<ipython-input-5-9d27b559bb75>\u001b[0m in \u001b[0;36m<module>\u001b[0;34m()\u001b[0m\n\u001b[1;32m      1\u001b[0m \u001b[0;32mimport\u001b[0m \u001b[0mtensorflow\u001b[0m \u001b[0;32mas\u001b[0m \u001b[0mtf\u001b[0m\u001b[0;34m\u001b[0m\u001b[0;34m\u001b[0m\u001b[0m\n\u001b[0;32m----> 2\u001b[0;31m \u001b[0mx\u001b[0m \u001b[0;34m=\u001b[0m \u001b[0mnp\u001b[0m\u001b[0;34m.\u001b[0m\u001b[0mrandom\u001b[0m\u001b[0;34m.\u001b[0m\u001b[0msample\u001b[0m\u001b[0;34m(\u001b[0m\u001b[0;34m(\u001b[0m\u001b[0;36m100\u001b[0m\u001b[0;34m,\u001b[0m\u001b[0;36m3\u001b[0m\u001b[0;34m)\u001b[0m\u001b[0;34m)\u001b[0m \u001b[0;31m# 난수 생성\u001b[0m\u001b[0;34m\u001b[0m\u001b[0;34m\u001b[0m\u001b[0m\n\u001b[0m\u001b[1;32m      3\u001b[0m \u001b[0mdataset\u001b[0m \u001b[0;34m=\u001b[0m \u001b[0mtf\u001b[0m\u001b[0;34m.\u001b[0m\u001b[0mdata\u001b[0m\u001b[0;34m.\u001b[0m\u001b[0mDataset\u001b[0m\u001b[0;34m.\u001b[0m\u001b[0mfrom_tensor_slices\u001b[0m\u001b[0;34m(\u001b[0m\u001b[0mx\u001b[0m\u001b[0;34m)\u001b[0m\u001b[0;34m\u001b[0m\u001b[0;34m\u001b[0m\u001b[0m\n",
            "\u001b[0;31mNameError\u001b[0m: name 'np' is not defined"
          ]
        }
      ]
    },
    {
      "cell_type": "code",
      "metadata": {
        "colab": {
          "base_uri": "https://localhost:8080/",
          "height": 231,
          "referenced_widgets": [
            "a396ea9fe5184efd8deacd6c17d05a9a",
            "7dea583160a74d9d957e9c862a929f13",
            "3d315b32f5e5472b9fd930750df267f2",
            "b47590e22ba0481e9ea1455c004078be",
            "311f3470c193459c83450ce9f18425d6",
            "2eba6f645dab45dab25bd8e10b0cc7e2",
            "e1f6b255f0be4df9a547249e71fdfc6e",
            "e2c048065cf9420ebfe9019b024477ad"
          ]
        },
        "id": "6UVV7lr3LJJk",
        "outputId": "abb1e070-e436-4219-8be2-53a6e4b41344"
      },
      "source": [
        "import tensorflow_datasets as tfds\n",
        "ds=tfds.load('mnist',split='train',shuffle_files=True)"
      ],
      "execution_count": null,
      "outputs": [
        {
          "output_type": "stream",
          "text": [
            "\u001b[1mDownloading and preparing dataset mnist/3.0.1 (download: 11.06 MiB, generated: 21.00 MiB, total: 32.06 MiB) to /root/tensorflow_datasets/mnist/3.0.1...\u001b[0m\n"
          ],
          "name": "stdout"
        },
        {
          "output_type": "stream",
          "text": [
            "WARNING:absl:Dataset mnist is hosted on GCS. It will automatically be downloaded to your\n",
            "local data directory. If you'd instead prefer to read directly from our public\n",
            "GCS bucket (recommended if you're running on GCP), you can instead pass\n",
            "`try_gcs=True` to `tfds.load` or set `data_dir=gs://tfds-data/datasets`.\n",
            "\n"
          ],
          "name": "stderr"
        },
        {
          "output_type": "display_data",
          "data": {
            "application/vnd.jupyter.widget-view+json": {
              "model_id": "a396ea9fe5184efd8deacd6c17d05a9a",
              "version_minor": 0,
              "version_major": 2
            },
            "text/plain": [
              "HBox(children=(FloatProgress(value=0.0, description='Dl Completed...', max=4.0, style=ProgressStyle(descriptio…"
            ]
          },
          "metadata": {
            "tags": []
          }
        },
        {
          "output_type": "stream",
          "text": [
            "\n",
            "\n",
            "\u001b[1mDataset mnist downloaded and prepared to /root/tensorflow_datasets/mnist/3.0.1. Subsequent calls will reuse this data.\u001b[0m\n"
          ],
          "name": "stdout"
        }
      ]
    },
    {
      "cell_type": "code",
      "metadata": {
        "colab": {
          "base_uri": "https://localhost:8080/"
        },
        "id": "BXvbdVXfLc2I",
        "outputId": "228deac4-8208-49b3-ed3b-9ee2b9249fc7"
      },
      "source": [
        "import tensorflow as tf\n",
        "data_train, data_test = tf.keras.datasets.mnist.load_data()\n",
        "(images_train, labels_train) = data_train\n",
        "(images_test, labels_test) = data_test"
      ],
      "execution_count": null,
      "outputs": [
        {
          "output_type": "stream",
          "text": [
            "Downloading data from https://storage.googleapis.com/tensorflow/tf-keras-datasets/mnist.npz\n",
            "11493376/11490434 [==============================] - 0s 0us/step\n"
          ],
          "name": "stdout"
        }
      ]
    },
    {
      "cell_type": "code",
      "metadata": {
        "colab": {
          "base_uri": "https://localhost:8080/"
        },
        "id": "KMF-REUWMBFw",
        "outputId": "0e5d0534-3ad9-4930-e650-c5d4691ea71b"
      },
      "source": [
        "import tensorflow as tf\n",
        "url = 'https://storage.googleapis.com/download.tensorflow.org/data/illiad/butler.txt'\n",
        "text_path = tf.keras.utils.get_file(\"butler.txt\", origin=url)"
      ],
      "execution_count": null,
      "outputs": [
        {
          "output_type": "stream",
          "text": [
            "Downloading data from https://storage.googleapis.com/download.tensorflow.org/data/illiad/butler.txt\n",
            "811008/807992 [==============================] - 0s 0us/step\n"
          ],
          "name": "stdout"
        }
      ]
    },
    {
      "cell_type": "code",
      "metadata": {
        "colab": {
          "base_uri": "https://localhost:8080/",
          "height": 244
        },
        "id": "zjcY0CPLMSj6",
        "outputId": "933becab-7995-4955-c202-5f03a58e4b65"
      },
      "source": [
        "log_dir = \"logs/fit/\"\n",
        "tensorboard_callback = tf.keras.callbacks.TensorBoard(log_dir=log_dir, histogram_freq=1)\n",
        "\n",
        "model.fit(x=x_train,\n",
        "          y=y_train,\n",
        "          epochs=5,\n",
        "          validation_data=(x_test, y_test),\n",
        "          callbacks=[tensorboard_callback])"
      ],
      "execution_count": null,
      "outputs": [
        {
          "output_type": "error",
          "ename": "NameError",
          "evalue": "ignored",
          "traceback": [
            "\u001b[0;31m---------------------------------------------------------------------------\u001b[0m",
            "\u001b[0;31mNameError\u001b[0m                                 Traceback (most recent call last)",
            "\u001b[0;32m<ipython-input-9-2ebef7844d79>\u001b[0m in \u001b[0;36m<module>\u001b[0;34m()\u001b[0m\n\u001b[1;32m      2\u001b[0m \u001b[0mtensorboard_callback\u001b[0m \u001b[0;34m=\u001b[0m \u001b[0mtf\u001b[0m\u001b[0;34m.\u001b[0m\u001b[0mkeras\u001b[0m\u001b[0;34m.\u001b[0m\u001b[0mcallbacks\u001b[0m\u001b[0;34m.\u001b[0m\u001b[0mTensorBoard\u001b[0m\u001b[0;34m(\u001b[0m\u001b[0mlog_dir\u001b[0m\u001b[0;34m=\u001b[0m\u001b[0mlog_dir\u001b[0m\u001b[0;34m,\u001b[0m \u001b[0mhistogram_freq\u001b[0m\u001b[0;34m=\u001b[0m\u001b[0;36m1\u001b[0m\u001b[0;34m)\u001b[0m\u001b[0;34m\u001b[0m\u001b[0;34m\u001b[0m\u001b[0m\n\u001b[1;32m      3\u001b[0m \u001b[0;34m\u001b[0m\u001b[0m\n\u001b[0;32m----> 4\u001b[0;31m model.fit(x=x_train,\n\u001b[0m\u001b[1;32m      5\u001b[0m           \u001b[0my\u001b[0m\u001b[0;34m=\u001b[0m\u001b[0my_train\u001b[0m\u001b[0;34m,\u001b[0m\u001b[0;34m\u001b[0m\u001b[0;34m\u001b[0m\u001b[0m\n\u001b[1;32m      6\u001b[0m           \u001b[0mepochs\u001b[0m\u001b[0;34m=\u001b[0m\u001b[0;36m5\u001b[0m\u001b[0;34m,\u001b[0m\u001b[0;34m\u001b[0m\u001b[0;34m\u001b[0m\u001b[0m\n",
            "\u001b[0;31mNameError\u001b[0m: name 'model' is not defined"
          ]
        }
      ]
    },
    {
      "cell_type": "code",
      "metadata": {
        "id": "EDBxr-D2PsZ6"
      },
      "source": [
        "# 199100199\n",
        "\n",
        "# 1st   199100199   1   99100199    []\n",
        "# 2nd   99100199    9   9100199     [1]   \n",
        "# 3rd   9100199     9*  100199      [1,9]   : 여기까지는 기존의 방법과 다르지 않다.\n",
        "# 4th   9100199     91* 00199       [1,9]   : 둘의 합이 다르다\n",
        "# 5th   9100199     910* 0199       [1,9]   : 둘의 합이\n",
        "# 6th   9100199     9100* 199       [1,9]   : 둘의 합이\n",
        "# 7th   9100199     91001* 99       [1,9]   : 둘의 합이\n",
        "# 8th   9100199     910019* 9       [1,9]   : 둘의 합이\n",
        "# 9th   9100199     9100199         [1,9]   : 둘의 합이\n",
        "\n",
        "# 10th  99100199    1   99100199    [1]   : 다시 진행한다\n",
        "# 11th  99100199    9   99100199    [1,9]   :\n",
        "# 12th  9100199     99  99100199    [1,99]   : 이번에는 숫자 2개로 진행한다\n",
        "\n",
        "# ...                               [1,99,100]\n",
        "\n",
        "# ...                               [1,99,100,199]\n"
      ],
      "execution_count": null,
      "outputs": []
    },
    {
      "cell_type": "code",
      "metadata": {
        "id": "yJIs06d8I26v"
      },
      "source": [
        "import pandas as pd\n",
        "import numpy as np\n",
        "import tensorflow as tf\n",
        "\n",
        "import matplotlib.pyplot as plt\n",
        "%matplotlib inline\n",
        "\n",
        "import seaborn as sns\n",
        "sns.set(style=\"darkgrid\")"
      ],
      "execution_count": null,
      "outputs": []
    },
    {
      "cell_type": "code",
      "metadata": {
        "id": "H2lx-CDXKJJ3"
      },
      "source": [
        "cols = ['price', 'maint', 'doors', 'persons', 'lug_capacity', 'safety','output']\n",
        "cars = pd.read_csv('car_evaluation.csv', names=cols, header=None)"
      ],
      "execution_count": 11,
      "outputs": []
    },
    {
      "cell_type": "code",
      "metadata": {
        "id": "T1vA_XECMBXU",
        "colab": {
          "base_uri": "https://localhost:8080/"
        },
        "outputId": "5477fd79-6301-4b78-cc04-be046ca3393f"
      },
      "source": [
        "print(cars)"
      ],
      "execution_count": 12,
      "outputs": [
        {
          "output_type": "stream",
          "text": [
            "      price  maint  doors persons lug_capacity safety output\n",
            "0     vhigh  vhigh      2       2        small    low  unacc\n",
            "1     vhigh  vhigh      2       2        small    med  unacc\n",
            "2     vhigh  vhigh      2       2        small   high  unacc\n",
            "3     vhigh  vhigh      2       2          med    low  unacc\n",
            "4     vhigh  vhigh      2       2          med    med  unacc\n",
            "...     ...    ...    ...     ...          ...    ...    ...\n",
            "1723    low    low  5more    more          med    med   good\n",
            "1724    low    low  5more    more          med   high  vgood\n",
            "1725    low    low  5more    more          big    low  unacc\n",
            "1726    low    low  5more    more          big    med   good\n",
            "1727    low    low  5more    more          big   high  vgood\n",
            "\n",
            "[1728 rows x 7 columns]\n"
          ],
          "name": "stdout"
        }
      ]
    },
    {
      "cell_type": "code",
      "metadata": {
        "colab": {
          "base_uri": "https://localhost:8080/",
          "height": 204
        },
        "id": "Wpi9-io0RH34",
        "outputId": "5cea5d95-b086-4ddc-9b21-85382f77561d"
      },
      "source": [
        "cars.head()"
      ],
      "execution_count": 14,
      "outputs": [
        {
          "output_type": "execute_result",
          "data": {
            "text/html": [
              "<div>\n",
              "<style scoped>\n",
              "    .dataframe tbody tr th:only-of-type {\n",
              "        vertical-align: middle;\n",
              "    }\n",
              "\n",
              "    .dataframe tbody tr th {\n",
              "        vertical-align: top;\n",
              "    }\n",
              "\n",
              "    .dataframe thead th {\n",
              "        text-align: right;\n",
              "    }\n",
              "</style>\n",
              "<table border=\"1\" class=\"dataframe\">\n",
              "  <thead>\n",
              "    <tr style=\"text-align: right;\">\n",
              "      <th></th>\n",
              "      <th>price</th>\n",
              "      <th>maint</th>\n",
              "      <th>doors</th>\n",
              "      <th>persons</th>\n",
              "      <th>lug_capacity</th>\n",
              "      <th>safety</th>\n",
              "      <th>output</th>\n",
              "    </tr>\n",
              "  </thead>\n",
              "  <tbody>\n",
              "    <tr>\n",
              "      <th>0</th>\n",
              "      <td>vhigh</td>\n",
              "      <td>vhigh</td>\n",
              "      <td>2</td>\n",
              "      <td>2</td>\n",
              "      <td>small</td>\n",
              "      <td>low</td>\n",
              "      <td>unacc</td>\n",
              "    </tr>\n",
              "    <tr>\n",
              "      <th>1</th>\n",
              "      <td>vhigh</td>\n",
              "      <td>vhigh</td>\n",
              "      <td>2</td>\n",
              "      <td>2</td>\n",
              "      <td>small</td>\n",
              "      <td>med</td>\n",
              "      <td>unacc</td>\n",
              "    </tr>\n",
              "    <tr>\n",
              "      <th>2</th>\n",
              "      <td>vhigh</td>\n",
              "      <td>vhigh</td>\n",
              "      <td>2</td>\n",
              "      <td>2</td>\n",
              "      <td>small</td>\n",
              "      <td>high</td>\n",
              "      <td>unacc</td>\n",
              "    </tr>\n",
              "    <tr>\n",
              "      <th>3</th>\n",
              "      <td>vhigh</td>\n",
              "      <td>vhigh</td>\n",
              "      <td>2</td>\n",
              "      <td>2</td>\n",
              "      <td>med</td>\n",
              "      <td>low</td>\n",
              "      <td>unacc</td>\n",
              "    </tr>\n",
              "    <tr>\n",
              "      <th>4</th>\n",
              "      <td>vhigh</td>\n",
              "      <td>vhigh</td>\n",
              "      <td>2</td>\n",
              "      <td>2</td>\n",
              "      <td>med</td>\n",
              "      <td>med</td>\n",
              "      <td>unacc</td>\n",
              "    </tr>\n",
              "  </tbody>\n",
              "</table>\n",
              "</div>"
            ],
            "text/plain": [
              "   price  maint doors persons lug_capacity safety output\n",
              "0  vhigh  vhigh     2       2        small    low  unacc\n",
              "1  vhigh  vhigh     2       2        small    med  unacc\n",
              "2  vhigh  vhigh     2       2        small   high  unacc\n",
              "3  vhigh  vhigh     2       2          med    low  unacc\n",
              "4  vhigh  vhigh     2       2          med    med  unacc"
            ]
          },
          "metadata": {
            "tags": []
          },
          "execution_count": 14
        }
      ]
    },
    {
      "cell_type": "code",
      "metadata": {
        "colab": {
          "base_uri": "https://localhost:8080/",
          "height": 375
        },
        "id": "Ut6h_H_aOyAg",
        "outputId": "6ad962d5-a398-480c-92a2-64446549a20b"
      },
      "source": [
        "plot_size = plt.rcParams[\"figure.figsize\"]\n",
        "plot_size [0] = 8\n",
        "plot_size [1] = 6\n",
        "plt.rcParams[\"figure.figsize\"] = plot_size\n",
        "cars.output.value_counts().plot(kind='pie', autopct='%0.05f%%', colors=['lightblue', 'lightgreen', 'orange', 'pink'], explode=(0.05,0.05,0.05,0.05))"
      ],
      "execution_count": 13,
      "outputs": [
        {
          "output_type": "execute_result",
          "data": {
            "text/plain": [
              "<matplotlib.axes._subplots.AxesSubplot at 0x7f08ceeb2710>"
            ]
          },
          "metadata": {
            "tags": []
          },
          "execution_count": 13
        },
        {
          "output_type": "display_data",
          "data": {
            "image/png": "[encoded data removed]",
            "text/plain": [
              "<Figure size 576x432 with 1 Axes>"
            ]
          },
          "metadata": {
            "tags": []
          }
        }
      ]
    },
    {
      "cell_type": "code",
      "metadata": {
        "id": "g66M46fcRFDs"
      },
      "source": [
        "price = pd.get_dummies(cars.price, prefix='price')\n",
        "maint = pd.get_dummies(cars.maint, prefix='maint')\n",
        "\n",
        "doors = pd.get_dummies(cars.doors, prefix='doors')\n",
        "persons = pd.get_dummies(cars.persons, prefix='persons')\n",
        "\n",
        "lug_capacity = pd.get_dummies(cars.lug_capacity, prefix='lug_capacity')\n",
        "safety = pd.get_dummies(cars.safety, prefix='safety')\n",
        "\n",
        "labels = pd.get_dummies(cars.output, prefix='condition')\n",
        "\n",
        "X = pd.concat([price, maint, doors, persons, lug_capacity, safety], axis=1)\n",
        "y = labels.values"
      ],
      "execution_count": 16,
      "outputs": []
    },
    {
      "cell_type": "code",
      "metadata": {
        "id": "EYd99TdHV-io"
      },
      "source": [
        "from sklearn.model_selection import train_test_split\n",
        "X_train, X_test, y_train, y_test = train_test_split(X, y, test_size=0.20, random_state=42)"
      ],
      "execution_count": 17,
      "outputs": []
    },
    {
      "cell_type": "code",
      "metadata": {
        "colab": {
          "base_uri": "https://localhost:8080/"
        },
        "id": "Hy6SOQv8WC28",
        "outputId": "508321b3-72d1-43c2-8d5f-96d3b782bffd"
      },
      "source": [
        "from tensorflow.keras.layers import Input, Dense, Activation, Dropout\n",
        "from tensorflow.keras.models import Model\n",
        "\n",
        "input_layer = Input(shape=(X.shape[1],))\n",
        "dense_layer_1 = Dense(15, activation='relu')(input_layer)\n",
        "dense_layer_2 = Dense(10, activation='relu')(dense_layer_1)\n",
        "output = Dense(y.shape[1], activation='softmax')(dense_layer_2)\n",
        "\n",
        "model = Model(inputs=input_layer, outputs=output)\n",
        "\n",
        "\n",
        "model.compile(loss='categorical_crossentropy', optimizer='adam', metrics=['acc'])\n",
        "\n",
        "model.summary()"
      ],
      "execution_count": 18,
      "outputs": [
        {
          "output_type": "stream",
          "text": [
            "Model: \"model\"\n",
            "_________________________________________________________________\n",
            "Layer (type)                 Output Shape              Param #   \n",
            "=================================================================\n",
            "input_1 (InputLayer)         [(None, 21)]              0         \n",
            "_________________________________________________________________\n",
            "dense (Dense)                (None, 15)                330       \n",
            "_________________________________________________________________\n",
            "dense_1 (Dense)              (None, 10)                160       \n",
            "_________________________________________________________________\n",
            "dense_2 (Dense)              (None, 4)                 44        \n",
            "=================================================================\n",
            "Total params: 534\n",
            "Trainable params: 534\n",
            "Non-trainable params: 0\n",
            "_________________________________________________________________\n"
          ],
          "name": "stdout"
        }
      ]
    },
    {
      "cell_type": "code",
      "metadata": {
        "colab": {
          "base_uri": "https://localhost:8080/"
        },
        "id": "C875XmlgXffJ",
        "outputId": "cc57d873-00b4-4b03-fe30-633e6fba96e4"
      },
      "source": [
        "history = model.fit(X_train, y_train, batch_size=8, epochs=50, verbose=1, validation_split=0.2)"
      ],
      "execution_count": 19,
      "outputs": [
        {
          "output_type": "stream",
          "text": [
            "Epoch 1/50\n",
            "139/139 [==============================] - 1s 3ms/step - loss: 0.9815 - acc: 0.6181 - val_loss: 0.8221 - val_acc: 0.6498\n",
            "Epoch 2/50\n",
            "139/139 [==============================] - 0s 2ms/step - loss: 0.6054 - acc: 0.7529 - val_loss: 0.6327 - val_acc: 0.7184\n",
            "Epoch 3/50\n",
            "139/139 [==============================] - 0s 2ms/step - loss: 0.4491 - acc: 0.8154 - val_loss: 0.5060 - val_acc: 0.8123\n",
            "Epoch 4/50\n",
            "139/139 [==============================] - 0s 2ms/step - loss: 0.3531 - acc: 0.8706 - val_loss: 0.4219 - val_acc: 0.8412\n",
            "Epoch 5/50\n",
            "139/139 [==============================] - 0s 2ms/step - loss: 0.2972 - acc: 0.8896 - val_loss: 0.3695 - val_acc: 0.8448\n",
            "Epoch 6/50\n",
            "139/139 [==============================] - 0s 2ms/step - loss: 0.2579 - acc: 0.8995 - val_loss: 0.3383 - val_acc: 0.8448\n",
            "Epoch 7/50\n",
            "139/139 [==============================] - 0s 2ms/step - loss: 0.2265 - acc: 0.9149 - val_loss: 0.3005 - val_acc: 0.8700\n",
            "Epoch 8/50\n",
            "139/139 [==============================] - 0s 2ms/step - loss: 0.1998 - acc: 0.9339 - val_loss: 0.2857 - val_acc: 0.8700\n",
            "Epoch 9/50\n",
            "139/139 [==============================] - 0s 2ms/step - loss: 0.1792 - acc: 0.9439 - val_loss: 0.2641 - val_acc: 0.8881\n",
            "Epoch 10/50\n",
            "139/139 [==============================] - 0s 2ms/step - loss: 0.1619 - acc: 0.9511 - val_loss: 0.2404 - val_acc: 0.9025\n",
            "Epoch 11/50\n",
            "139/139 [==============================] - 0s 1ms/step - loss: 0.1435 - acc: 0.9701 - val_loss: 0.2207 - val_acc: 0.9061\n",
            "Epoch 12/50\n",
            "139/139 [==============================] - 0s 2ms/step - loss: 0.1315 - acc: 0.9665 - val_loss: 0.1972 - val_acc: 0.9278\n",
            "Epoch 13/50\n",
            "139/139 [==============================] - 0s 2ms/step - loss: 0.1213 - acc: 0.9729 - val_loss: 0.1848 - val_acc: 0.9314\n",
            "Epoch 14/50\n",
            "139/139 [==============================] - 0s 2ms/step - loss: 0.1117 - acc: 0.9765 - val_loss: 0.1763 - val_acc: 0.9386\n",
            "Epoch 15/50\n",
            "139/139 [==============================] - 0s 2ms/step - loss: 0.1032 - acc: 0.9774 - val_loss: 0.1706 - val_acc: 0.9422\n",
            "Epoch 16/50\n",
            "139/139 [==============================] - 0s 2ms/step - loss: 0.0962 - acc: 0.9837 - val_loss: 0.1552 - val_acc: 0.9458\n",
            "Epoch 17/50\n",
            "139/139 [==============================] - 0s 2ms/step - loss: 0.0905 - acc: 0.9819 - val_loss: 0.1448 - val_acc: 0.9531\n",
            "Epoch 18/50\n",
            "139/139 [==============================] - 0s 2ms/step - loss: 0.0841 - acc: 0.9855 - val_loss: 0.1520 - val_acc: 0.9531\n",
            "Epoch 19/50\n",
            "139/139 [==============================] - 0s 2ms/step - loss: 0.0784 - acc: 0.9891 - val_loss: 0.1384 - val_acc: 0.9495\n",
            "Epoch 20/50\n",
            "139/139 [==============================] - 0s 2ms/step - loss: 0.0728 - acc: 0.9846 - val_loss: 0.1674 - val_acc: 0.9314\n",
            "Epoch 21/50\n",
            "139/139 [==============================] - 0s 2ms/step - loss: 0.0726 - acc: 0.9873 - val_loss: 0.1240 - val_acc: 0.9603\n",
            "Epoch 22/50\n",
            "139/139 [==============================] - 0s 2ms/step - loss: 0.0660 - acc: 0.9873 - val_loss: 0.1260 - val_acc: 0.9567\n",
            "Epoch 23/50\n",
            "139/139 [==============================] - 0s 1ms/step - loss: 0.0620 - acc: 0.9891 - val_loss: 0.1172 - val_acc: 0.9603\n",
            "Epoch 24/50\n",
            "139/139 [==============================] - 0s 2ms/step - loss: 0.0577 - acc: 0.9910 - val_loss: 0.1171 - val_acc: 0.9603\n",
            "Epoch 25/50\n",
            "139/139 [==============================] - 0s 2ms/step - loss: 0.0555 - acc: 0.9910 - val_loss: 0.1047 - val_acc: 0.9711\n",
            "Epoch 26/50\n",
            "139/139 [==============================] - 0s 2ms/step - loss: 0.0521 - acc: 0.9928 - val_loss: 0.1020 - val_acc: 0.9747\n",
            "Epoch 27/50\n",
            "139/139 [==============================] - 0s 2ms/step - loss: 0.0501 - acc: 0.9919 - val_loss: 0.1040 - val_acc: 0.9675\n",
            "Epoch 28/50\n",
            "139/139 [==============================] - 0s 1ms/step - loss: 0.0469 - acc: 0.9937 - val_loss: 0.1030 - val_acc: 0.9675\n",
            "Epoch 29/50\n",
            "139/139 [==============================] - 0s 2ms/step - loss: 0.0433 - acc: 0.9955 - val_loss: 0.1069 - val_acc: 0.9639\n",
            "Epoch 30/50\n",
            "139/139 [==============================] - 0s 2ms/step - loss: 0.0429 - acc: 0.9937 - val_loss: 0.0937 - val_acc: 0.9711\n",
            "Epoch 31/50\n",
            "139/139 [==============================] - 0s 2ms/step - loss: 0.0388 - acc: 0.9955 - val_loss: 0.1046 - val_acc: 0.9639\n",
            "Epoch 32/50\n",
            "139/139 [==============================] - 0s 1ms/step - loss: 0.0382 - acc: 0.9964 - val_loss: 0.1074 - val_acc: 0.9603\n",
            "Epoch 33/50\n",
            "139/139 [==============================] - 0s 2ms/step - loss: 0.0360 - acc: 0.9946 - val_loss: 0.0841 - val_acc: 0.9819\n",
            "Epoch 34/50\n",
            "139/139 [==============================] - 0s 2ms/step - loss: 0.0331 - acc: 0.9964 - val_loss: 0.1032 - val_acc: 0.9639\n",
            "Epoch 35/50\n",
            "139/139 [==============================] - 0s 2ms/step - loss: 0.0322 - acc: 0.9955 - val_loss: 0.0810 - val_acc: 0.9783\n",
            "Epoch 36/50\n",
            "139/139 [==============================] - 0s 2ms/step - loss: 0.0292 - acc: 0.9955 - val_loss: 0.0857 - val_acc: 0.9747\n",
            "Epoch 37/50\n",
            "139/139 [==============================] - 0s 2ms/step - loss: 0.0280 - acc: 0.9955 - val_loss: 0.0846 - val_acc: 0.9747\n",
            "Epoch 38/50\n",
            "139/139 [==============================] - 0s 2ms/step - loss: 0.0287 - acc: 0.9946 - val_loss: 0.0830 - val_acc: 0.9783\n",
            "Epoch 39/50\n",
            "139/139 [==============================] - 0s 2ms/step - loss: 0.0251 - acc: 0.9964 - val_loss: 0.0822 - val_acc: 0.9783\n",
            "Epoch 40/50\n",
            "139/139 [==============================] - 0s 2ms/step - loss: 0.0258 - acc: 0.9964 - val_loss: 0.0793 - val_acc: 0.9783\n",
            "Epoch 41/50\n",
            "139/139 [==============================] - 0s 2ms/step - loss: 0.0229 - acc: 0.9964 - val_loss: 0.0730 - val_acc: 0.9856\n",
            "Epoch 42/50\n",
            "139/139 [==============================] - 0s 2ms/step - loss: 0.0216 - acc: 0.9964 - val_loss: 0.0852 - val_acc: 0.9711\n",
            "Epoch 43/50\n",
            "139/139 [==============================] - 0s 2ms/step - loss: 0.0215 - acc: 0.9964 - val_loss: 0.0766 - val_acc: 0.9783\n",
            "Epoch 44/50\n",
            "139/139 [==============================] - 0s 2ms/step - loss: 0.0189 - acc: 0.9973 - val_loss: 0.0711 - val_acc: 0.9856\n",
            "Epoch 45/50\n",
            "139/139 [==============================] - 0s 2ms/step - loss: 0.0182 - acc: 0.9982 - val_loss: 0.0740 - val_acc: 0.9819\n",
            "Epoch 46/50\n",
            "139/139 [==============================] - 0s 2ms/step - loss: 0.0170 - acc: 0.9964 - val_loss: 0.0626 - val_acc: 0.9856\n",
            "Epoch 47/50\n",
            "139/139 [==============================] - 0s 2ms/step - loss: 0.0162 - acc: 0.9982 - val_loss: 0.0691 - val_acc: 0.9856\n",
            "Epoch 48/50\n",
            "139/139 [==============================] - 0s 2ms/step - loss: 0.0142 - acc: 0.9973 - val_loss: 0.0687 - val_acc: 0.9856\n",
            "Epoch 49/50\n",
            "139/139 [==============================] - 0s 2ms/step - loss: 0.0141 - acc: 0.9982 - val_loss: 0.0678 - val_acc: 0.9892\n",
            "Epoch 50/50\n",
            "139/139 [==============================] - 0s 2ms/step - loss: 0.0126 - acc: 0.9982 - val_loss: 0.0607 - val_acc: 0.9892\n"
          ],
          "name": "stdout"
        }
      ]
    },
    {
      "cell_type": "code",
      "metadata": {
        "colab": {
          "base_uri": "https://localhost:8080/"
        },
        "id": "aCftzig3XgKS",
        "outputId": "79af77c8-2216-4f86-c591-2f413a81a74c"
      },
      "source": [
        "score = model.evaluate(X_test, y_test, verbose=1)\n",
        "print(\"Test Score:\", score[0])\n",
        "print(\"Test Accuracy:\", score[1])"
      ],
      "execution_count": 20,
      "outputs": [
        {
          "output_type": "stream",
          "text": [
            "11/11 [==============================] - 0s 1ms/step - loss: 0.0559 - acc: 0.9884\n",
            "Test Score: 0.05593185871839523\n",
            "Test Accuracy: 0.9884393215179443\n"
          ],
          "name": "stdout"
        }
      ]
    },
    {
      "cell_type": "code",
      "metadata": {
        "id": "KCQSc2_dYIDn"
      },
      "source": [
        ""
      ],
      "execution_count": null,
      "outputs": []
    }
  ]
}