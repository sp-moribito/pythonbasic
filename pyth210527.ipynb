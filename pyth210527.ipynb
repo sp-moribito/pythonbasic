{
 "cells": [
  {
   "cell_type": "code",
   "execution_count": 1,
   "metadata": {},
   "outputs": [
    {
     "name": "stdout",
     "output_type": "stream",
     "text": [
      "10\n",
      "12\n"
     ]
    }
   ],
   "source": [
    "# 해당 수를 2나 3, 5로 계속 나누어가면서 최종적으로 남는 수를 검증하는 방식\n",
    "# 어글리 넘버에 해당하는 수를 찾으면 카운트해서 사용자가 입력한 수와 일치하면 끝\n",
    "\n",
    "\n",
    "def numk(a): # a가 어글리 넘버인지를 찾는 함수 numk\n",
    "    while True: # 판별될 때까지 while문 실행\n",
    "        if a==1 or a==2 or a==3 or a==5: # a가 1,2,3,5 중 하나라면\n",
    "            return 1 # 1을 리턴\n",
    "        elif a%2==0: # a가 2로 나누어떨어지면\n",
    "            a=a//2 # a는 a를 2로 나눈 몫으로 변경\n",
    "        elif a%3==0: # a가 3으로 나누어떨어지면\n",
    "            a=a//3 # a는 a를 3으로 나눈 몫으로 변경\n",
    "        elif a%5==0: # a가 5로 나누어떨어지면\n",
    "            a=a//5 # a는 a를 5로 나눈 몫으로 변경\n",
    "        else: # 위 4가지 경우에 해당되지 않으면\n",
    "            return 0 # 0을 리턴\n",
    "\n",
    "def countn(n): # n번째 어글리 넘버를 찾는 함수 countn\n",
    "    i=1 # 검색할 숫자를 i에 선언해서 1로 초기화\n",
    "    count=0 # 몇번째 어글리 넘버를 찾기 위해 count로 선언해서 0으로 초기화\n",
    "\n",
    "    while True: # 찾을 때까지 while문 실행\n",
    "        count=count+numk(i) # 기존의 count와 numk(i)를 더해서 count에 보관\n",
    "        if count==n: # 해당 시점에서 count가 n과 일치하면\n",
    "            break # while문을 탈출\n",
    "        i+=1 # i를 1 증가\n",
    "    print(i) # while문을 탈출한 시점에서 i를 출력한다.\n",
    "    \n",
    "n=int(input()) # 사용자에게 몇번째 어글리 넘버를 찾을 건지 입력받아 n에 보관\n",
    "countn(n) # n을 인자로 countn 함수 호출"
   ]
  },
  {
   "cell_type": "code",
   "execution_count": null,
   "metadata": {},
   "outputs": [],
   "source": []
  }
 ],
 "metadata": {
  "kernelspec": {
   "display_name": "Python 3",
   "language": "python",
   "name": "python3"
  },
  "language_info": {
   "codemirror_mode": {
    "name": "ipython",
    "version": 3
   },
   "file_extension": ".py",
   "mimetype": "text/x-python",
   "name": "python",
   "nbconvert_exporter": "python",
   "pygments_lexer": "ipython3",
   "version": "3.8.5"
  }
 },
 "nbformat": 4,
 "nbformat_minor": 4
}
