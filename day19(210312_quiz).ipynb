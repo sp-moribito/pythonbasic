{
 "cells": [
  {
   "cell_type": "code",
   "execution_count": 4,
   "metadata": {},
   "outputs": [
    {
     "name": "stdout",
     "output_type": "stream",
     "text": [
      "5\n"
     ]
    }
   ],
   "source": [
    "# 1교시 퀴즈\n",
    "\n",
    "people=[('이호준','01050442903'),\n",
    "       ('이호상','01051442904'),\n",
    "       ('이준호','01050342904'),\n",
    "       ('이호준','01050442903'),\n",
    "       ('이준','01050412904'),\n",
    "       ('이호','01050443904'),\n",
    "       ('이호준','01050442903')]\n",
    "\n",
    "#중복된 데이터 제거하여 실제 접수 명단이 몇명인가 알고 싶다.\n",
    "\n",
    "# 세트 = 중복이 안되는 자료구조\n",
    "# 보기의 딕셔너리를 세트화(化)시켜서 그 세트에 있는 요소의 갯수를 계산하면 된다.\n",
    "\n",
    "count=0 # 세트 요소 갯수 카운트용\n",
    "\n",
    "for i in set(people):\n",
    "    count+=1\n",
    "    \n",
    "print(count)"
   ]
  },
  {
   "cell_type": "code",
   "execution_count": 5,
   "metadata": {},
   "outputs": [
    {
     "data": {
      "text/plain": [
       "5"
      ]
     },
     "execution_count": 5,
     "metadata": {},
     "output_type": "execute_result"
    }
   ],
   "source": [
    "# len이 훨씬 쉽네;;\n",
    "len(set(people))"
   ]
  },
  {
   "cell_type": "code",
   "execution_count": 7,
   "metadata": {},
   "outputs": [
    {
     "name": "stdout",
     "output_type": "stream",
     "text": [
      "AAABBBcccddd\n",
      "aaabbbCCCDDD\n"
     ]
    }
   ],
   "source": [
    "# 2교시 퀴즈\n",
    "\n",
    "a=input() # 문자열 입력\n",
    "print(a.swapcase()) # swapcase : 대문자를 소문자로, 소문자를 대문자로 바꿈"
   ]
  },
  {
   "cell_type": "code",
   "execution_count": 31,
   "metadata": {},
   "outputs": [
    {
     "name": "stdout",
     "output_type": "stream",
     "text": [
      "AAABBBcccddd\n",
      "aaabbbCCCDDD\n"
     ]
    }
   ],
   "source": [
    "# 다른 방법을 찾아보자\n",
    "a=input() # 문자열 입력\n",
    "b=\"\" # 출력을 위한 빈 문자열\n",
    "\n",
    "for i in range(0,len(a)): # 입력받은 문자열 길이만큼 for문\n",
    "    if a[i].isupper()==True: # 문자열이 대문자라면?\n",
    "        b=b+a[i].lower() # 출력할 문자열에 소문자화해서 추가한다.\n",
    "    else: # 문자열이 소문자라면?\n",
    "        b=b+a[i].upper() # 출력할 문자열에 대문자화해서 추가한다.\n",
    "print(b)"
   ]
  },
  {
   "cell_type": "code",
   "execution_count": 34,
   "metadata": {},
   "outputs": [
    {
     "name": "stdout",
     "output_type": "stream",
     "text": [
      "10 9 8 7 6 5 4 3 2 1\n"
     ]
    },
    {
     "data": {
      "text/plain": [
       "10"
      ]
     },
     "execution_count": 34,
     "metadata": {},
     "output_type": "execute_result"
    }
   ],
   "source": [
    "# 3교시 퀴즈\n",
    "\n",
    "a=list(map(int,input().split())) # 공백을 제거해서 리스트로 받는다.\n",
    "max(a) # 리스트에 있는 것 중 최대(max) 출력"
   ]
  },
  {
   "cell_type": "code",
   "execution_count": 36,
   "metadata": {},
   "outputs": [
    {
     "name": "stdout",
     "output_type": "stream",
     "text": [
      "10 8 9 7 6 5 4 3 2 1\n",
      "[1, 2, 3, 4, 5, 6, 7, 8, 9, 10]\n",
      "10\n"
     ]
    }
   ],
   "source": [
    "# 다른 방법\n",
    "a=list(map(int,input().split())) # 공백을 제거해서 리스트로 받는다.\n",
    "b=sorted(a)\n",
    "print(b)\n",
    "\n",
    "max=0 # 최대값 저장\n",
    "\n",
    "for i in range(0,len(a)): # 입력받은 숫자를 검사하는 for문\n",
    "    if a[i]>max: # 최대값과 리스트 내 숫자를 비교해서 클 경우\n",
    "        max=a[i] # 최대값이 해당 숫자로 대체된다\n",
    "\n",
    "print(max) # for문을 모두 돌린 뒤 최대값(max) 출력"
   ]
  },
  {
   "cell_type": "code",
   "execution_count": 38,
   "metadata": {},
   "outputs": [
    {
     "name": "stdout",
     "output_type": "stream",
     "text": [
      "10 8 7 9 6 5 4 3 2 1\n",
      "10\n"
     ]
    }
   ],
   "source": [
    "# sorted 사용\n",
    "a=list(map(int,input().split())) # 공백을 제거해서 리스트로 받는다.\n",
    "\n",
    "print(sorted(a)[-1]) # 정렬화시킨 뒤 리스트 가장 끝에 있는 요소를 출력"
   ]
  },
  {
   "cell_type": "code",
   "execution_count": 46,
   "metadata": {},
   "outputs": [
    {
     "name": "stdout",
     "output_type": "stream",
     "text": [
      "번호 :  0, 이름 : 강은지\n",
      "번호 :  1, 이름 : 강채연\n",
      "번호 :  2, 이름 : 권윤일\n",
      "번호 :  3, 이름 : 김민호\n",
      "번호 :  4, 이름 : 김유정\n",
      "번호 :  5, 이름 : 김진이\n",
      "번호 :  6, 이름 : 김채리\n",
      "번호 :  7, 이름 : 박지호\n",
      "번호 :  8, 이름 : 박현서\n",
      "번호 :  9, 이름 : 최성흔\n",
      "번호 :  10, 이름 : 한지호\n",
      "번호 :  11, 이름 : 홍유진\n"
     ]
    }
   ],
   "source": [
    "# 4교시 문제\n",
    "\n",
    "student=['강은지','김유정','박현서','최성흔','홍유진','박지호','권윤일','김채리','한지호','김진이','김민호','강채연']\n",
    "\n",
    "sort_stu=sorted(student) # 일단 가나다 순으로 리스트 정렬\n",
    "\n",
    "for i in range(0,len(sort_stu)): # for문으로 출력\n",
    "    print(\"번호 : \",i,end=\",\") # 번호 출력 - 뒤의 쉼표 때문에 end=\",\" 추가\n",
    "    print(\" 이름 :\",sort_stu[i]) # 이름 출력"
   ]
  },
  {
   "cell_type": "code",
   "execution_count": 52,
   "metadata": {},
   "outputs": [
    {
     "name": "stdout",
     "output_type": "stream",
     "text": [
      "번호 : 1, 이름 : 강은지\n",
      "번호 : 2, 이름 : 강채연\n",
      "번호 : 3, 이름 : 권윤일\n",
      "번호 : 4, 이름 : 김민호\n",
      "번호 : 5, 이름 : 김유정\n",
      "번호 : 6, 이름 : 김진이\n",
      "번호 : 7, 이름 : 김채리\n",
      "번호 : 8, 이름 : 박지호\n",
      "번호 : 9, 이름 : 박현서\n",
      "번호 : 10, 이름 : 최성흔\n",
      "번호 : 11, 이름 : 한지호\n",
      "번호 : 12, 이름 : 홍유진\n"
     ]
    }
   ],
   "source": [
    "#format 사용해서 1줄로 출력\n",
    "\n",
    "sort_stu=sorted(student) # 일단 가나다 순으로 리스트 정렬\n",
    "\n",
    "for i in range(0,len(sort_stu)): # for문으로 출력\n",
    "    print(\"번호 : {0}, 이름 : {1}\".format(i+1,sort_stu[i])) # format 이용해서 출력"
   ]
  },
  {
   "cell_type": "code",
   "execution_count": 55,
   "metadata": {},
   "outputs": [
    {
     "name": "stdout",
     "output_type": "stream",
     "text": [
      "번호 : 1, 이름 : 강은지\n",
      "번호 : 2, 이름 : 김유정\n",
      "번호 : 3, 이름 : 박현서\n",
      "번호 : 4, 이름 : 최성흔\n",
      "번호 : 5, 이름 : 홍유진\n",
      "번호 : 6, 이름 : 박지호\n",
      "번호 : 7, 이름 : 권윤일\n",
      "번호 : 8, 이름 : 김채리\n",
      "번호 : 9, 이름 : 한지호\n",
      "번호 : 10, 이름 : 김진이\n",
      "번호 : 11, 이름 : 김민호\n",
      "번호 : 12, 이름 : 강채연\n"
     ]
    }
   ],
   "source": [
    "# enumerate 사용해보라\n",
    "\n",
    "# for i in enumerate(student):\n",
    "#     print(i)\n",
    "for i,v in enumerate(student):\n",
    "    print(\"번호 : {0}, 이름 : {1}\".format(i+1,v))"
   ]
  },
  {
   "cell_type": "code",
   "execution_count": 67,
   "metadata": {},
   "outputs": [
    {
     "name": "stdout",
     "output_type": "stream",
     "text": [
      "20190923\n"
     ]
    }
   ],
   "source": [
    "# 아이디어 퀴즈\n",
    "# 20190923을 출력하자 ; 단 코드에 숫자, 날짜, 연도, 에러코드가 들어가면 안된다.\n",
    "\n",
    "print(ord('d')+ord('e'),end=\"\") # 아스키코드 d(100)와 e(101)를 더하면 201이 나온다\n",
    "print(ord('Z'),end=\"\") # 아스키코드 Z(90)\n",
    "print(ord('\\\\'),end=\"\") # 아스키코드 \\(92) : \\\\을 해주어야 \\이 인식된다\n",
    "print(ord('D')-ord('A')) # 아스키코드 D(68)에서 A(65)를 빼주면 3이 나온다"
   ]
  },
  {
   "cell_type": "code",
   "execution_count": 77,
   "metadata": {},
   "outputs": [
    {
     "name": "stdout",
     "output_type": "stream",
     "text": [
      "20190923\n"
     ]
    }
   ],
   "source": [
    "# 글자수를 세어보자\n",
    "\n",
    "str=\"aacdddddddddfffffffffgghhh\"\n",
    "\n",
    "print(str.count('a'),end=\"\")\n",
    "print(str.count('b'),end=\"\")\n",
    "print(str.count('c'),end=\"\")\n",
    "print(str.count('d'),end=\"\")\n",
    "print(str.count('e'),end=\"\")\n",
    "print(str.count('f'),end=\"\")\n",
    "print(str.count('g'),end=\"\")\n",
    "print(str.count('h'))"
   ]
  },
  {
   "cell_type": "code",
   "execution_count": 84,
   "metadata": {},
   "outputs": [
    {
     "name": "stdout",
     "output_type": "stream",
     "text": [
      "복잡한 세상 편하게 살자\n",
      "복세편살"
     ]
    }
   ],
   "source": [
    "# 5교시 문제\n",
    "\n",
    "# a=[\"복잡한\",\"세상\"]에서 복을 출력하고 싶다면\n",
    "# a[0][0]을 사용해주면 된다. \n",
    "# a[0] = 복잡한 -> a[0][0] = 복\n",
    "\n",
    "a=input().split() # 입력받아 공백을 잘라 리스트화\n",
    "\n",
    "for i in range(0,len(a)): # 리스트에 담겨진 수만큼 돌아가는 for문\n",
    "    print(a[i][0],end=\"\") # 각 요소의 첫 글자([0])만을 출력하고, 한줄에 붙인다."
   ]
  },
  {
   "cell_type": "code",
   "execution_count": 88,
   "metadata": {},
   "outputs": [
    {
     "name": "stdout",
     "output_type": "stream",
     "text": [
      "복잡한 세상\n",
      "복잡한복잡한복잡한"
     ]
    }
   ],
   "source": [
    "# 정답\n",
    "\n",
    "a=input().split(\" \")\n",
    "out=''\n",
    "\n",
    "for i in a:\n",
    "    out=out+i[0]\n",
    "    print(out,end=\"\")"
   ]
  },
  {
   "cell_type": "code",
   "execution_count": 93,
   "metadata": {},
   "outputs": [
    {
     "name": "stdout",
     "output_type": "stream",
     "text": [
      "649\n",
      "3자리수\n"
     ]
    }
   ],
   "source": [
    "# 6교시 퀴즈\n",
    "\n",
    "a=input() # 일단 입력을 받자. (문자열 상태)\n",
    "if int(a)>0: # 입력받은 수가 양수라면\n",
    "    print(\"{0}자리수\".format(len(a))) # 해당 문자열의 길이를 출력한다.\n"
   ]
  },
  {
   "cell_type": "code",
   "execution_count": 99,
   "metadata": {},
   "outputs": [
    {
     "name": "stdout",
     "output_type": "stream",
     "text": [
      "공백을 제외한 글자수만을 세는 코드 테스트\n",
      "18\n"
     ]
    }
   ],
   "source": [
    "# 7교시 퀴즈\n",
    "# 어떠한 문자열을 입력받았을 때 줄 바꿈과 공백을 제외한 글자수만 출력하는 코드\n",
    "\n",
    "a=input() # 문자열입력\n",
    "print(len(a)-a.count(' ')-a.count('\\n')) # 문자열의 길이에서 공백과 개행문자 수 제외"
   ]
  },
  {
   "cell_type": "code",
   "execution_count": null,
   "metadata": {},
   "outputs": [],
   "source": [
    "# 어떠한 문자열을 입력받았을 때 공백을 제외한 글자수만 출력하는 코드\n",
    "# 줄 바꿈은 제외됨\n",
    "\n",
    "a=input() # 문자열입력\n",
    "print(len(a)-a.count(' ')) # 문자열의 길이에서 공백 수 제외"
   ]
  }
 ],
 "metadata": {
  "kernelspec": {
   "display_name": "Python 3",
   "language": "python",
   "name": "python3"
  },
  "language_info": {
   "codemirror_mode": {
    "name": "ipython",
    "version": 3
   },
   "file_extension": ".py",
   "mimetype": "text/x-python",
   "name": "python",
   "nbconvert_exporter": "python",
   "pygments_lexer": "ipython3",
   "version": "3.8.5"
  }
 },
 "nbformat": 4,
 "nbformat_minor": 4
}
