{
  "nbformat": 4,
  "nbformat_minor": 0,
  "metadata": {
    "colab": {
      "name": "Day10(210226).ipynb",
      "provenance": [],
      "collapsed_sections": [],
      "authorship_tag": "ABX9TyO5pT/9vnVz92ZEE3wWCddS",
      "include_colab_link": true
    },
    "kernelspec": {
      "name": "python3",
      "display_name": "Python 3"
    }
  },
  "cells": [
    {
      "cell_type": "markdown",
      "metadata": {
        "id": "view-in-github",
        "colab_type": "text"
      },
      "source": [
        "<a href=\"https://colab.research.google.com/github/sp-moribito/pythonbasic/blob/main/Day10(210226).ipynb\" target=\"_parent\"><img src=\"https://colab.research.google.com/assets/colab-badge.svg\" alt=\"Open In Colab\"/></a>"
      ]
    },
    {
      "cell_type": "code",
      "metadata": {
        "colab": {
          "base_uri": "https://localhost:8080/",
          "height": 136
        },
        "id": "LV4ZXVV2xkk7",
        "outputId": "0466edcc-c5c2-4e48-809b-3d873a7b54a2"
      },
      "source": [
        "# 문제27 : 딕셔너리 만들기\r\n",
        "stu_dic={}\r\n",
        "n1=list(map(stu_dic.key,input().split()))\r\n",
        "n2=\r\n",
        "\r\n",
        "stu_dic"
      ],
      "execution_count": 4,
      "outputs": [
        {
          "output_type": "error",
          "ename": "SyntaxError",
          "evalue": "ignored",
          "traceback": [
            "\u001b[0;36m  File \u001b[0;32m\"<ipython-input-4-d9a30eb92e7d>\"\u001b[0;36m, line \u001b[0;32m4\u001b[0m\n\u001b[0;31m    n2=\u001b[0m\n\u001b[0m       ^\u001b[0m\n\u001b[0;31mSyntaxError\u001b[0m\u001b[0;31m:\u001b[0m invalid syntax\n"
          ]
        }
      ]
    },
    {
      "cell_type": "code",
      "metadata": {
        "colab": {
          "base_uri": "https://localhost:8080/"
        },
        "id": "_2juvmB906PQ",
        "outputId": "11c18f4b-09f8-4792-e07c-79986e25ab3d"
      },
      "source": [
        "# 해답편\r\n",
        "a=input().split()\r\n",
        "b=input().split()\r\n",
        "\r\n",
        "dic_stu={}\r\n",
        "\r\n",
        "for i in range(len(a)):\r\n",
        "  dic_stu[a[i]]=b[i]\r\n",
        "\r\n",
        "dic_stu"
      ],
      "execution_count": 8,
      "outputs": [
        {
          "output_type": "stream",
          "text": [
            "Yujin Hyewon\n",
            "70 100\n"
          ],
          "name": "stdout"
        },
        {
          "output_type": "execute_result",
          "data": {
            "text/plain": [
              "{'Hyewon': '100', 'Yujin': '70'}"
            ]
          },
          "metadata": {
            "tags": []
          },
          "execution_count": 8
        }
      ]
    },
    {
      "cell_type": "code",
      "metadata": {
        "colab": {
          "base_uri": "https://localhost:8080/"
        },
        "id": "CDS_D7FS1N4f",
        "outputId": "b9bf206c-126a-4528-d067-27be1fea4329"
      },
      "source": [
        "# 해답편 심화\r\n",
        "# for문을 사용하지 않고 풀 수 있다고 한다.\r\n",
        "\r\n",
        "key=input().split()\r\n",
        "value=map(int,input().split())\r\n",
        "\r\n",
        "result=dict(zip(key,value)) #dict는 딕셔너리화 선언"
      ],
      "execution_count": 12,
      "outputs": [
        {
          "output_type": "stream",
          "text": [
            "Yujin Hyewon\n",
            "70 100\n"
          ],
          "name": "stdout"
        }
      ]
    },
    {
      "cell_type": "code",
      "metadata": {
        "colab": {
          "base_uri": "https://localhost:8080/"
        },
        "id": "AR7BOaky2EMF",
        "outputId": "ea5b6fcf-bf19-4490-bc90-8342450f3f1b"
      },
      "source": [
        "#문제 28\r\n",
        "a=input() #문자열 입력\r\n",
        "\r\n",
        "for i in range(len(a)-1):\r\n",
        "  print(a[i],end=\"\")\r\n",
        "  print(a[i+1])"
      ],
      "execution_count": 21,
      "outputs": [
        {
          "output_type": "stream",
          "text": [
            "Python\n",
            "Py\n",
            "yt\n",
            "th\n",
            "ho\n",
            "on\n"
          ],
          "name": "stdout"
        }
      ]
    },
    {
      "cell_type": "code",
      "metadata": {
        "colab": {
          "base_uri": "https://localhost:8080/"
        },
        "id": "3Dmli-1p-JsP",
        "outputId": "b31a0b1e-3f76-4de4-a52b-c5e01231da88"
      },
      "source": [
        "#해답편\r\n",
        "a=input() #문자열 입력\r\n",
        "\r\n",
        "for i in range(len(a)-1):\r\n",
        "  print(a[i],a[i+1],sep=\"\") #end=\"\"를 사용할 필요 없이 sep=\"\"으로 붙여버릴 수 있다."
      ],
      "execution_count": 23,
      "outputs": [
        {
          "output_type": "stream",
          "text": [
            "python\n",
            "p\n",
            "y\n",
            "t\n",
            "h\n",
            "o\n"
          ],
          "name": "stdout"
        }
      ]
    },
    {
      "cell_type": "code",
      "metadata": {
        "colab": {
          "base_uri": "https://localhost:8080/"
        },
        "id": "yN4escduBPRq",
        "outputId": "1bc06147-5699-4af8-85ef-c4d810d7e6c7"
      },
      "source": [
        "#문제 29\r\n",
        "\r\n",
        "a=input()\r\n",
        "\r\n",
        "if len(a) == 1:\r\n",
        "  if a == a.upper():\r\n",
        "    print(\"YES\")\r\n",
        "  else:\r\n",
        "    print(\"No\")\r\n",
        "else:\r\n",
        "  print(\"Only one alpabet!\")"
      ],
      "execution_count": 32,
      "outputs": [
        {
          "output_type": "stream",
          "text": [
            "b\n",
            "No\n"
          ],
          "name": "stdout"
        }
      ]
    },
    {
      "cell_type": "code",
      "metadata": {
        "colab": {
          "base_uri": "https://localhost:8080/"
        },
        "id": "7pXql8xLCa8W",
        "outputId": "f325994c-b6db-4cec-a601-6bfc16745b49"
      },
      "source": [
        "#해답편\r\n",
        "\r\n",
        "txt=input()\r\n",
        "\r\n",
        "if txt.isupper(): # == .uppper()를 간략화한게 isupper()\r\n",
        "  print(\"YES\")\r\n",
        "else:\r\n",
        "  print(\"No\")\r\n",
        "\r\n",
        "#isupper 대문자인지 확인\r\n",
        "#islower 소문자인지 확인\r\n",
        "#isdigit 숫자인지 확인"
      ],
      "execution_count": 33,
      "outputs": [
        {
          "output_type": "stream",
          "text": [
            "a\n",
            "No\n"
          ],
          "name": "stdout"
        }
      ]
    },
    {
      "cell_type": "code",
      "metadata": {
        "colab": {
          "base_uri": "https://localhost:8080/"
        },
        "id": "dsRA_FPcFJHD",
        "outputId": "f1b6cd27-3b97-49c1-c476-1b0aa8623d96"
      },
      "source": [
        "#해답편 2 - ASCii 코드\r\n",
        "\r\n",
        "txt=input()\r\n",
        "\r\n",
        "if ord(txt) >= 65 or ord(txt) <= 90: # 아스키코드화된 숫자가 65(A)보다 크고 90(Z)보다 작은가?\r\n",
        "# ord 대신 chr로도 사용할 수 있다.\r\n",
        "  print(\"YES\")\r\n",
        "else:\r\n",
        "  print(\"No\")"
      ],
      "execution_count": 34,
      "outputs": [
        {
          "output_type": "stream",
          "text": [
            "A\n",
            "YES\n"
          ],
          "name": "stdout"
        }
      ]
    },
    {
      "cell_type": "code",
      "metadata": {
        "colab": {
          "base_uri": "https://localhost:8080/"
        },
        "id": "hV6UmlnxF9WG",
        "outputId": "66d5726c-0c4e-4f1a-fb20-d135476000f1"
      },
      "source": [
        "#문제 30\r\n",
        "\r\n",
        "a=input()\r\n",
        "b=input()\r\n",
        "\r\n",
        "a.find(b)"
      ],
      "execution_count": 36,
      "outputs": [
        {
          "output_type": "stream",
          "text": [
            "pineapple is yummy\n",
            "apple\n"
          ],
          "name": "stdout"
        },
        {
          "output_type": "execute_result",
          "data": {
            "text/plain": [
              "4"
            ]
          },
          "metadata": {
            "tags": []
          },
          "execution_count": 36
        }
      ]
    },
    {
      "cell_type": "code",
      "metadata": {
        "colab": {
          "base_uri": "https://localhost:8080/"
        },
        "id": "j3XaT0GFMXAm",
        "outputId": "60f03afa-7438-4eb9-a850-f7eded378d06"
      },
      "source": [
        "#해답편\r\n",
        "\r\n",
        "a='pineapple is yummy'\r\n",
        "\r\n",
        "print(a.index('apple'))\r\n",
        "print(a.find('apple'))\r\n",
        "\r\n",
        "# 둘 다 동일한 결과가 나오기는 하지만, 찾는 값이 없을 때는 index는 오류가 발생하고, find는 -1을 반환한다."
      ],
      "execution_count": 37,
      "outputs": [
        {
          "output_type": "stream",
          "text": [
            "4\n",
            "4\n"
          ],
          "name": "stdout"
        }
      ]
    },
    {
      "cell_type": "code",
      "metadata": {
        "id": "HVkas2dTPDxk"
      },
      "source": [
        "#문제 31\r\n",
        "#시간복잡도가 O(1)이 아닌 것은?\r\n",
        "# 개인적인 답변은 5번?\r\n",
        "# 5번을 제외하면 탐색이 필요하다.\r\n",
        "#\r\n",
        "# 빅오 표기법 : \r\n",
        "#\r\n",
        "# 하지만 답은 3번.\r\n",
        "# 3번을 제외하면 한번에 처리된다."
      ],
      "execution_count": 38,
      "outputs": []
    },
    {
      "cell_type": "code",
      "metadata": {
        "colab": {
          "base_uri": "https://localhost:8080/"
        },
        "id": "IC3GVoZMQRuD",
        "outputId": "8baeca0c-a251-4848-e5f3-bd94400119b2"
      },
      "source": [
        "# 문제 32\r\n",
        "\r\n",
        "a=input().split()\r\n",
        "len(a)"
      ],
      "execution_count": 39,
      "outputs": [
        {
          "output_type": "stream",
          "text": [
            "저 넓은 세상을 네 눈앞에 그려봐 네 진심을 느껴봐\n"
          ],
          "name": "stdout"
        },
        {
          "output_type": "execute_result",
          "data": {
            "text/plain": [
              "9"
            ]
          },
          "metadata": {
            "tags": []
          },
          "execution_count": 39
        }
      ]
    },
    {
      "cell_type": "code",
      "metadata": {
        "colab": {
          "base_uri": "https://localhost:8080/"
        },
        "id": "MTf7DCnCQad3",
        "outputId": "faa6bb52-ce41-4d69-c18b-6ad387ba34bd"
      },
      "source": [
        "#문제 32 응용판\r\n",
        "#빈칸이 있을 경우에는?\r\n",
        "#ex) 입력 : '빅데이터   '\r\n",
        "\r\n",
        "a=input().strip()\r\n",
        "print(a)\r\n",
        "len(a)\r\n",
        "\r\n",
        "#lstrip : 왼쪽을 날려버린다.\r\n",
        "#rstrip : 오른쪽을 날려버린다."
      ],
      "execution_count": 43,
      "outputs": [
        {
          "output_type": "stream",
          "text": [
            "빅데이터    \n",
            "빅데이터\n"
          ],
          "name": "stdout"
        },
        {
          "output_type": "execute_result",
          "data": {
            "text/plain": [
              "4"
            ]
          },
          "metadata": {
            "tags": []
          },
          "execution_count": 43
        }
      ]
    },
    {
      "cell_type": "code",
      "metadata": {
        "colab": {
          "base_uri": "https://localhost:8080/"
        },
        "id": "i3i_HhlfSLWS",
        "outputId": "b832ca45-a6d7-468b-ce6f-ef8cbd3aeeee"
      },
      "source": [
        "#문제 33\r\n",
        "\r\n",
        "a=list(map(int,input().split()))\r\n",
        "\r\n",
        "for i in range(len(a)):\r\n",
        "  print(a[len(a)-i-1],end=\" \")"
      ],
      "execution_count": 49,
      "outputs": [
        {
          "output_type": "stream",
          "text": [
            "2 4 6 7 8\n",
            "8 7 6 4 2 "
          ],
          "name": "stdout"
        }
      ]
    },
    {
      "cell_type": "code",
      "metadata": {
        "colab": {
          "base_uri": "https://localhost:8080/"
        },
        "id": "Wu6CDhCXUihw",
        "outputId": "6f5412c2-36b2-46c5-8a97-b70190f5d094"
      },
      "source": [
        "#문제 34\r\n",
        "num=list(map(int,input().split()))\r\n",
        "b=[]\r\n",
        "\r\n",
        "print(\"\")\r\n",
        "print(num)\r\n",
        "print(sorted(num))"
      ],
      "execution_count": 58,
      "outputs": [
        {
          "output_type": "stream",
          "text": [
            "176 156 155 165 166 169\n",
            "\n",
            "[176, 156, 155, 165, 166, 169]\n",
            "[155, 156, 165, 166, 169, 176]\n"
          ],
          "name": "stdout"
        }
      ]
    },
    {
      "cell_type": "code",
      "metadata": {
        "id": "nZn4yeLKcyjC"
      },
      "source": [
        "# sort와 sorted의 차이?\r\n",
        "# 1. <list>.sort()를 사용하면 원본 리스트 자체의 순서를 변화시킨다.\r\n",
        "#  <list>.sorted()를 사용하면 정렬된 새로운 리스트를 반환받는다.\r\n",
        "# 2. <list>.sort()를 사용하면 새로운 복사본을 만들지 않기 때문에 sorted(<list>)보다 빠르다."
      ],
      "execution_count": 59,
      "outputs": []
    },
    {
      "cell_type": "code",
      "metadata": {
        "colab": {
          "base_uri": "https://localhost:8080/"
        },
        "id": "yhU0qTkqffTl",
        "outputId": "21f29d20-95f9-4a33-9a45-db9df668442d"
      },
      "source": [
        "# 힌트가 나온 뒤 나름대로의 해답\r\n",
        "num=list(map(int,input().split()))\r\n",
        "k=1 #반복 횟수\r\n",
        "\r\n",
        "for i in range(len(num)):\r\n",
        "  if num[i] != sorted(num)[i]:\r\n",
        "    print(\"NO\",end=\" \")\r\n",
        "    print(k)\r\n",
        "    break\r\n",
        "  k=k+1\r\n",
        "if k==(len(num)+1):\r\n",
        "  print(\"YES\")"
      ],
      "execution_count": 67,
      "outputs": [
        {
          "output_type": "stream",
          "text": [
            "155 156 165 166 169 176\n",
            "YES\n"
          ],
          "name": "stdout"
        }
      ]
    },
    {
      "cell_type": "code",
      "metadata": {
        "colab": {
          "base_uri": "https://localhost:8080/"
        },
        "id": "u21SDlNBf_pw",
        "outputId": "422ce53e-0e9b-4f51-e61c-3635fd205e4e"
      },
      "source": [
        "num=input()\r\n",
        "num2=[int(i) for i in num.strip().split()]\r\n",
        "\r\n",
        "if num2 !=sorted(num2):\r\n",
        "  print(\"No\")\r\n",
        "else:\r\n",
        "  print(\"YES\")"
      ],
      "execution_count": 71,
      "outputs": [
        {
          "output_type": "stream",
          "text": [
            "2 3 1 2 5\n",
            "No\n"
          ],
          "name": "stdout"
        }
      ]
    },
    {
      "cell_type": "code",
      "metadata": {
        "colab": {
          "base_uri": "https://localhost:8080/"
        },
        "id": "-2huYri5iApu",
        "outputId": "e6ad1069-ecf1-46dc-d1fb-0433a967b858"
      },
      "source": [
        "# 문제 35는 지금 안함\r\n",
        "# 문제 36\r\n",
        "\r\n",
        "num=int(input())\r\n",
        "\r\n",
        "for i in range(1,10):\r\n",
        "  print(num*i,end=\" \")"
      ],
      "execution_count": 74,
      "outputs": [
        {
          "output_type": "stream",
          "text": [
            "2\n",
            "2 4 6 8 10 12 14 16 18 "
          ],
          "name": "stdout"
        }
      ]
    },
    {
      "cell_type": "code",
      "metadata": {
        "colab": {
          "base_uri": "https://localhost:8080/"
        },
        "id": "h68VHu1Ji5jG",
        "outputId": "42d80fbd-efb1-4fb9-89c9-1d5e039c737b"
      },
      "source": [
        "# 문제 37\r\n",
        "a=[\"원영\",\"원영\",\"은비\",\"은비\",\"은비\",\"은비\",\"채연\",\"채연\"]\r\n",
        "\r\n",
        "# 중복없이 찾아봐야할듯?\r\n",
        "print(set(a))\r\n",
        "b=list(set(a))\r\n",
        "print(a.count(b[0]))\r\n",
        "print(a.count(b[1]))\r\n",
        "print(a.count(b[2]))\r\n",
        "\r\n",
        "# 선별\r\n",
        "max_mem=0\r\n",
        "\r\n",
        "for i in range(len(b)):\r\n",
        "  print(\"현재 : %d\" % max_mem)\r\n",
        "  print(\"%d\" % a.count(b[i]))\r\n",
        "  if a.count(b[i]) > a.count(b[max_mem]):\r\n",
        "    max_mem=i\r\n",
        "    print(\"%d로 변경되었습니다.\\n\" % max_mem)\r\n",
        "\r\n",
        "print(\"%s(이)가 총 %d표로 반장이 되었습니다.\" % (b[max_mem],a.count(b[max_mem])))"
      ],
      "execution_count": 93,
      "outputs": [
        {
          "output_type": "stream",
          "text": [
            "{'원영', '은비', '채연'}\n",
            "2\n",
            "4\n",
            "2\n",
            "현재 : 0\n",
            "2\n",
            "현재 : 0\n",
            "4\n",
            "1로 변경되었습니다.\n",
            "\n",
            "현재 : 1\n",
            "2\n",
            "은비(이)가 총 4표로 반장이 되었습니다.\n"
          ],
          "name": "stdout"
        }
      ]
    },
    {
      "cell_type": "code",
      "metadata": {
        "colab": {
          "base_uri": "https://localhost:8080/"
        },
        "id": "TTCr8Wi91Qo9",
        "outputId": "8ab0777d-7517-4379-acc7-22cea059236c"
      },
      "source": [
        "# 내 답변 : 이게 베스트 앤서라는데?????\r\n",
        "\r\n",
        "a=input().split()\r\n",
        "\r\n",
        "b=list(set(a)) # 중복 제거를 위해 세트화하여 별도의 리스트\r\n",
        "\r\n",
        "max_mem=0 # 선별을 위한 구분자\r\n",
        "\r\n",
        "for i in range(len(b)):\r\n",
        "  #print(\"현재 : %d\" % max_mem)\r\n",
        "  #print(\"%d\" % a.count(b[i]))\r\n",
        "  if a.count(b[i]) > a.count(b[max_mem]):\r\n",
        "    max_mem=i\r\n",
        "    #print(\"%d로 변경되었습니다.\\n\" % max_mem)\r\n",
        "\r\n",
        "print(\"%s(이)가 총 %d표로 반장이 되었습니다.\" % (b[max_mem],a.count(b[max_mem])))"
      ],
      "execution_count": 97,
      "outputs": [
        {
          "output_type": "stream",
          "text": [
            "원영 원영 은비 은비 은비 은비 채연 채연\n",
            "['원영', '은비', '채연']\n",
            "은비(이)가 총 4표로 반장이 되었습니다.\n"
          ],
          "name": "stdout"
        }
      ]
    },
    {
      "cell_type": "code",
      "metadata": {
        "colab": {
          "base_uri": "https://localhost:8080/"
        },
        "id": "4IQ486Lx44Kc",
        "outputId": "e57ab9ef-58b6-44b1-cc3a-4b92da07e565"
      },
      "source": [
        "# 문제 38 스킵\r\n",
        "# 문제 39\r\n",
        "\r\n",
        "a=\"querty\"\r\n",
        "a.replace(\"q\",\"e\")\r\n",
        "\r\n",
        "for i in range(len(a)):\r\n",
        " if a[i] == \"q\":\r\n",
        "  a[i].replace(\"q\",\"e\")\r\n",
        "\r\n",
        "print(a)"
      ],
      "execution_count": 102,
      "outputs": [
        {
          "output_type": "stream",
          "text": [
            "querty\n"
          ],
          "name": "stdout"
        }
      ]
    },
    {
      "cell_type": "code",
      "metadata": {
        "colab": {
          "base_uri": "https://localhost:8080/"
        },
        "id": "KUwJhIGBDZgX",
        "outputId": "9748b415-4420-4410-faa9-0962ee137deb"
      },
      "source": [
        "#해답편\r\n",
        "\r\n",
        "a=input()\r\n",
        "print(a.replace('q','e')) # replace 함수"
      ],
      "execution_count": 103,
      "outputs": [
        {
          "output_type": "stream",
          "text": [
            "querty\n",
            "euerty\n"
          ],
          "name": "stdout"
        }
      ]
    },
    {
      "cell_type": "code",
      "metadata": {
        "colab": {
          "base_uri": "https://localhost:8080/"
        },
        "id": "whbxoow3D7x2",
        "outputId": "b59725f7-2d42-4440-fc7e-4e97d484a4e2"
      },
      "source": [
        "# 문제 40 스킵\r\n",
        "# 문제 41 : 소수판별\r\n",
        "\r\n",
        "a=int(input())\r\n",
        "k=0\r\n",
        "\r\n",
        "if a % 2!=0:\r\n",
        "  if a%3 != 0:\r\n",
        "    print(\"YES\")\r\n",
        "  else:\r\n",
        "    print(\"NO\")\r\n",
        "else:\r\n",
        "  print(\"NO\")\r\n",
        "\r\n"
      ],
      "execution_count": 109,
      "outputs": [
        {
          "output_type": "stream",
          "text": [
            "2\n",
            "NO\n"
          ],
          "name": "stdout"
        }
      ]
    },
    {
      "cell_type": "code",
      "metadata": {
        "colab": {
          "base_uri": "https://localhost:8080/"
        },
        "id": "lTS4N7y5Ec_6",
        "outputId": "a7431b77-2118-4e38-afb2-4744a2834187"
      },
      "source": [
        "# 해답편\r\n",
        "# 에라토스테네스의 체\r\n",
        "\r\n",
        "a=int(input())\r\n",
        "re = 0 # 자연수로 나눌거라 1은 반드시 나오므로 1이 아니라 0으로 초기화\r\n",
        "\r\n",
        "for i in range(1,a+1):\r\n",
        "  if a % i ==0: # 입력받은 수를 그 수 앞에 모든 수로 나눈 나머지 값이 0인지를 판별\r\n",
        "    re+=1\r\n",
        "\r\n",
        "if re==2:\r\n",
        "  print(\"YES\") # 소수가 맞다\r\n",
        "else:\r\n",
        "  print(\"NO\") # 소수가 아니다"
      ],
      "execution_count": 125,
      "outputs": [
        {
          "output_type": "stream",
          "text": [
            "1351\n",
            "NO\n"
          ],
          "name": "stdout"
        }
      ]
    },
    {
      "cell_type": "code",
      "metadata": {
        "colab": {
          "base_uri": "https://localhost:8080/"
        },
        "id": "-AnKFVM5JGVf",
        "outputId": "a0a7f815-1bf9-4174-8cf8-f0abdac182e7"
      },
      "source": [
        "# 문제 44 : 각 자리 수의 합\r\n",
        "\r\n",
        "a=input()\r\n",
        "sum = 0\r\n",
        "for i in range(len(a)):\r\n",
        "  sum=sum+int(a[i])\r\n",
        "\r\n",
        "print(sum)"
      ],
      "execution_count": 14,
      "outputs": [
        {
          "output_type": "stream",
          "text": [
            "1234567891011121314151617181920\n",
            "102\n"
          ],
          "name": "stdout"
        }
      ]
    },
    {
      "cell_type": "code",
      "metadata": {
        "colab": {
          "base_uri": "https://localhost:8080/"
        },
        "id": "Qf82VOYbQNX9",
        "outputId": "a12f6103-13dc-455f-ca69-05d42ef1495a"
      },
      "source": [
        "# 해답편?\r\n",
        "#num=input()\r\n",
        "print(sum(map(int,input())))"
      ],
      "execution_count": 2,
      "outputs": [
        {
          "output_type": "stream",
          "text": [
            "1234\n",
            "10\n"
          ],
          "name": "stdout"
        }
      ]
    },
    {
      "cell_type": "code",
      "metadata": {
        "colab": {
          "base_uri": "https://localhost:8080/"
        },
        "id": "LIVIXzn7SoBn",
        "outputId": "51d49398-a047-40d7-a795-49c64b14ed9a"
      },
      "source": [
        "# 문제 45 스킵\r\n",
        "# 문제 46 : str 자료형의 응용\r\n",
        "\r\n",
        "#a=\"101112131415\"\r\n",
        "\r\n",
        "#print(a[0]+a[1])\r\n",
        "#print(type(a[0]+a[1]))\r\n",
        "#print(int(a[0]+a[1]))\r\n",
        "\r\n",
        "a=\"1234567891011121314151617181920\"\r\n",
        "\r\n",
        "sum=0\r\n",
        "k=0\r\n",
        "\r\n",
        "for i in range(1,20):\r\n",
        "  if i<10:\r\n",
        "    sum=sum+int(a[i])\r\n",
        "  else:\r\n",
        "    sum=sum+int((a[i+k])+(a[i+k+1]))\r\n",
        "    k=k+1\r\n",
        "\r\n",
        "print(sum)\r\n",
        "\r\n",
        "# a[10] : 1 a[11] : 0\r\n",
        "# a[12] : 1 a[13] : 1\r\n",
        "# ...\r\n",
        "# a[]\r\n"
      ],
      "execution_count": 11,
      "outputs": [
        {
          "output_type": "stream",
          "text": [
            "506\n"
          ],
          "name": "stdout"
        }
      ]
    },
    {
      "cell_type": "code",
      "metadata": {
        "colab": {
          "base_uri": "https://localhost:8080/"
        },
        "id": "AkpApxkoVkdn",
        "outputId": "03453c28-fcae-4ef6-947b-8b9eae61f01f"
      },
      "source": [
        "#해답편\r\n",
        "\r\n",
        "sum=0\r\n",
        "for i in list(range(21)):\r\n",
        "  for j in str(i):\r\n",
        "    sum=sum+int(j)\r\n",
        "    print(\"%d : sum= %d\" % (i,sum))\r\n",
        "print(sum)"
      ],
      "execution_count": 13,
      "outputs": [
        {
          "output_type": "stream",
          "text": [
            "0 : sum= 0\n",
            "1 : sum= 1\n",
            "2 : sum= 3\n",
            "3 : sum= 6\n",
            "4 : sum= 10\n",
            "5 : sum= 15\n",
            "6 : sum= 21\n",
            "7 : sum= 28\n",
            "8 : sum= 36\n",
            "9 : sum= 45\n",
            "10 : sum= 46\n",
            "10 : sum= 46\n",
            "11 : sum= 47\n",
            "11 : sum= 48\n",
            "12 : sum= 49\n",
            "12 : sum= 51\n",
            "13 : sum= 52\n",
            "13 : sum= 55\n",
            "14 : sum= 56\n",
            "14 : sum= 60\n",
            "15 : sum= 61\n",
            "15 : sum= 66\n",
            "16 : sum= 67\n",
            "16 : sum= 73\n",
            "17 : sum= 74\n",
            "17 : sum= 81\n",
            "18 : sum= 82\n",
            "18 : sum= 90\n",
            "19 : sum= 91\n",
            "19 : sum= 100\n",
            "20 : sum= 102\n",
            "20 : sum= 102\n",
            "102\n"
          ],
          "name": "stdout"
        }
      ]
    },
    {
      "cell_type": "code",
      "metadata": {
        "id": "hWltMKuqYtwl"
      },
      "source": [
        "# 문제 46의 답은 문제 44의 내 풀이랑 다르지 않음;;"
      ],
      "execution_count": 15,
      "outputs": []
    },
    {
      "cell_type": "code",
      "metadata": {
        "colab": {
          "base_uri": "https://localhost:8080/"
        },
        "id": "QPiw1HXbZcEq",
        "outputId": "33a5b85b-6404-48bf-a330-6d8cfaf4c916"
      },
      "source": [
        "# 응용 : input 부분 넣기\r\n",
        "\r\n",
        "a=input()\r\n",
        "sum = 0\r\n",
        "for i in range(len(a)):\r\n",
        "  sum=sum+int(a[i])\r\n",
        "\r\n",
        "print(sum)"
      ],
      "execution_count": 18,
      "outputs": [
        {
          "output_type": "stream",
          "text": [
            "5162727\n",
            "30\n"
          ],
          "name": "stdout"
        }
      ]
    }
  ]
}