{
 "cells": [
  {
   "cell_type": "code",
   "execution_count": 6,
   "metadata": {},
   "outputs": [],
   "source": [
    "#문제1 : 리스트의 삭제\n",
    "#리스트 nums=[100,200,300,400,500]에서 400,500을 삭제하는 코드 작성\n"
   ]
  },
  {
   "cell_type": "code",
   "execution_count": 7,
   "metadata": {},
   "outputs": [
    {
     "data": {
      "text/plain": [
       "[100, 200, 300]"
      ]
     },
     "execution_count": 7,
     "metadata": {},
     "output_type": "execute_result"
    }
   ],
   "source": [
    "#나의 풀이\n",
    "nums=[100,200,300,400,500]\n",
    "\n",
    "nums.pop()\n",
    "nums.pop()\n",
    "\n",
    "nums"
   ]
  },
  {
   "cell_type": "code",
   "execution_count": 8,
   "metadata": {},
   "outputs": [],
   "source": [
    "# 해답편1은 위의 방법\n",
    "# 해답편2\n",
    "\n",
    "nums=[100,200,300,400,500]\n",
    "nums=nums[:3]"
   ]
  },
  {
   "cell_type": "code",
   "execution_count": 10,
   "metadata": {},
   "outputs": [
    {
     "name": "stdout",
     "output_type": "stream",
     "text": [
      "[100, 200, 10000, 300]\n"
     ]
    }
   ],
   "source": [
    "#문제 2\n",
    "\n",
    "l=[100,200,300]\n",
    "l.insert(2,10000)\n",
    "print(l)"
   ]
  },
  {
   "cell_type": "code",
   "execution_count": 11,
   "metadata": {},
   "outputs": [
    {
     "name": "stdout",
     "output_type": "stream",
     "text": [
      "<class 'list'>\n"
     ]
    }
   ],
   "source": [
    "l=[100,200,300]\n",
    "print(type(l))"
   ]
  },
  {
   "cell_type": "code",
   "execution_count": 14,
   "metadata": {},
   "outputs": [
    {
     "name": "stdout",
     "output_type": "stream",
     "text": [
      "2019/04/26 11:34:27\n"
     ]
    }
   ],
   "source": [
    "#문제 9\n",
    "# sep과 end를 활용해서 2019/04/26 11:34:27로 나오게 만들어라\n",
    "\n",
    "year='2019'\n",
    "month='04'\n",
    "day='26'\n",
    "hour='11'\n",
    "minute='34'\n",
    "second='27'\n",
    "\n",
    "#print(year,month,day, )\n",
    "#print(hour,minute,second, )\n",
    "\n",
    "print(year, month, day, sep='/', end=\" \")\n",
    "print(hour, minute, second, sep=':')"
   ]
  },
  {
   "cell_type": "code",
   "execution_count": 61,
   "metadata": {},
   "outputs": [
    {
     "name": "stdout",
     "output_type": "stream",
     "text": [
      "입력:7\n",
      "       *\n",
      "      ***\n",
      "     *****\n",
      "    *******\n",
      "   *********\n",
      "  ***********\n",
      " *************\n"
     ]
    }
   ],
   "source": [
    "#문제 10\n",
    "# 3입력받으면\n",
    "#    *\n",
    "#  ***\n",
    "# *****\n",
    "#위와 같이 나오도록\n",
    "\n",
    "a=int(input(\"입력:\"))\n",
    "    \n",
    "for i in range(0,a):\n",
    "    print(\" \" * (a-i) + \"*\" * (2*i+1))\n",
    "    \n",
    "# 가령 5를 입력했을 경우\n",
    "# 빈칸 4칸 *표 1칸\n",
    "# 빈칸 3칸 *표 3칸\n",
    "# 빈칸 2칸 *표 5칸\n",
    "# 빈칸 1칸 *표 7칸\n",
    "# 빈칸 0칸 *표 9칸\n",
    "# 위에 맞게 코드를 작성하면 된다."
   ]
  },
  {
   "cell_type": "code",
   "execution_count": 62,
   "metadata": {},
   "outputs": [
    {
     "name": "stdout",
     "output_type": "stream",
     "text": [
      "4950\n"
     ]
    }
   ],
   "source": [
    "#문제 11\n",
    "s=0\n",
    "for i in range(100):\n",
    "    s=s+i\n",
    "print(s)"
   ]
  },
  {
   "cell_type": "code",
   "execution_count": 64,
   "metadata": {},
   "outputs": [
    {
     "name": "stdout",
     "output_type": "stream",
     "text": [
      "545 210 10\n",
      "파이어볼\n"
     ]
    }
   ],
   "source": [
    "#문제 12\n",
    "\n",
    "class Wizard():\n",
    "    def __init__(self,health,mana,armor):\n",
    "        self.health=health\n",
    "        self.mana=mana\n",
    "        self.armor=armor\n",
    "    def attack(self):\n",
    "        print(\"파이어볼\")\n",
    "        \n",
    "x=Wizard(health=545,mana=210,armor=10)\n",
    "print(x.health,x.mana,x.armor)\n",
    "x.attack()"
   ]
  },
  {
   "cell_type": "code",
   "execution_count": 77,
   "metadata": {},
   "outputs": [
    {
     "name": "stdout",
     "output_type": "stream",
     "text": [
      "-1\n",
      "양수를 입력해주세요!\n",
      "-2\n",
      "양수를 입력해주세요!\n",
      "-30\n",
      "양수를 입력해주세요!\n",
      "100\n",
      "숫자는 1~8까지만 입력할 수 있습니다.\n",
      "0\n",
      "0은 위 문제에서 사용되지 않습니다.\n",
      "1\n",
      "수성\n"
     ]
    }
   ],
   "source": [
    "#문제 13\n",
    "\n",
    "planet=[\"수성\",\"금성\",\"지구\",\"화성\",\"목성\",\"토성\",\"천왕성\",\"해왕성\"]\n",
    "\n",
    "while True:\n",
    "    a=int(input())\n",
    "\n",
    "    if a<9 and a>0:\n",
    "        print(planet[a-1])\n",
    "        break\n",
    "    elif a<1:\n",
    "        if a==0:\n",
    "            print(\"0은 위 문제에서 사용되지 않습니다.\")\n",
    "        else:\n",
    "            print(\"양수를 입력해주세요!\")\n",
    "    else:\n",
    "        print(\"숫자는 1~8까지만 입력할 수 있습니다.\")"
   ]
  },
  {
   "cell_type": "code",
   "execution_count": 78,
   "metadata": {},
   "outputs": [
    {
     "name": "stdout",
     "output_type": "stream",
     "text": [
      "3\n",
      "짝\n"
     ]
    }
   ],
   "source": [
    "#문제 14\n",
    "\n",
    "num=0\n",
    "\n",
    "def threebae(num):\n",
    "    if num%3==0:\n",
    "        print(\"짝\")\n",
    "    else:\n",
    "        print(num)\n",
    "\n",
    "num=int(input())\n",
    "threebae(num)"
   ]
  },
  {
   "cell_type": "code",
   "execution_count": 93,
   "metadata": {},
   "outputs": [
    {
     "name": "stdout",
     "output_type": "stream",
     "text": [
      "김다정\n",
      "안녕하세요. 저는 김다정입니다.\n",
      "안녕하세요. 저는 김다정입니다.\n"
     ]
    }
   ],
   "source": [
    "#문제 15\n",
    "name=input()\n",
    "print(\"안녕하세요. 저는 %s입니다.\" % name)\n",
    "print(\"안녕하세요. 저는 {}입니다.\".format(name))"
   ]
  },
  {
   "cell_type": "code",
   "execution_count": 80,
   "metadata": {},
   "outputs": [
    {
     "name": "stdout",
     "output_type": "stream",
     "text": [
      "190\n",
      "YES\n"
     ]
    }
   ],
   "source": [
    "#문제 17\n",
    "height=int(input())\n",
    "if height>150:\n",
    "    print(\"YES\")\n",
    "else:\n",
    "    print(\"NO\")"
   ]
  },
  {
   "cell_type": "code",
   "execution_count": 90,
   "metadata": {},
   "outputs": [
    {
     "name": "stdout",
     "output_type": "stream",
     "text": [
      "20\n",
      "30\n",
      "40\n",
      "30\n"
     ]
    }
   ],
   "source": [
    "#문제 18\n",
    "a=[]\n",
    "sum=0\n",
    "i=0\n",
    "\n",
    "for i in range(0,3):\n",
    "    a.insert(i,int(input()))\n",
    "    sum=sum+a[i]\n",
    "\n",
    "print(round(sum/len(a)))"
   ]
  },
  {
   "cell_type": "markdown",
   "metadata": {},
   "source": []
  },
  {
   "cell_type": "code",
   "execution_count": 96,
   "metadata": {},
   "outputs": [
    {
     "name": "stdout",
     "output_type": "stream",
     "text": [
      "거꾸로\n",
      "로꾸거"
     ]
    }
   ],
   "source": [
    "#문제 16\n",
    "a=list(input())\n",
    "a.reverse()\n",
    "for i in range(len(a)):\n",
    "    print(a[i],end=\"\")\n",
    "#리스트화가 과했다...."
   ]
  },
  {
   "cell_type": "code",
   "execution_count": 97,
   "metadata": {},
   "outputs": [
    {
     "name": "stdout",
     "output_type": "stream",
     "text": [
      "거꾸로\n",
      "로꾸거"
     ]
    }
   ],
   "source": [
    "#문제 16(단순화1)\n",
    "a= input('')\n",
    "for i in range(len(a),0,-1):\n",
    "    print(a[i-1],end='')"
   ]
  },
  {
   "cell_type": "code",
   "execution_count": 99,
   "metadata": {},
   "outputs": [
    {
     "name": "stdout",
     "output_type": "stream",
     "text": [
      "거꾸로\n",
      "로꾸거\n"
     ]
    }
   ],
   "source": [
    "#문제 16(단순화2)\n",
    "a=input('')\n",
    "print(a[::-1])#기억해두자?!"
   ]
  },
  {
   "cell_type": "code",
   "execution_count": 108,
   "metadata": {},
   "outputs": [
    {
     "name": "stdout",
     "output_type": "stream",
     "text": [
      "20 30 40\n",
      "17\n"
     ]
    }
   ],
   "source": [
    "#문제 18(심화)\n",
    "\n",
    "a=input()\n",
    "k=a.split() #split\n",
    "sum=0\n",
    "\n",
    "for i in range(0,len(k)-1):\n",
    "    #print(k[i])\n",
    "    sum=sum+int(k[i])\n",
    "\n",
    "print(round(sum/len(k)))"
   ]
  },
  {
   "cell_type": "code",
   "execution_count": 120,
   "metadata": {},
   "outputs": [
    {
     "name": "stdout",
     "output_type": "stream",
     "text": [
      "20 30 40\n"
     ]
    },
    {
     "data": {
      "text/plain": [
       "50"
      ]
     },
     "execution_count": 120,
     "metadata": {},
     "output_type": "execute_result"
    }
   ],
   "source": [
    "#nums=list(map(int,input().split()))\n",
    "#sum(nums)\n",
    "\n",
    "n=list(map(int,input().split()))\n",
    "n[0]+n[1]\n",
    "\n",
    "#print(sum(nums)/len(nums))"
   ]
  },
  {
   "cell_type": "code",
   "execution_count": 112,
   "metadata": {},
   "outputs": [
    {
     "name": "stdout",
     "output_type": "stream",
     "text": [
      "3 2\n",
      "9\n"
     ]
    }
   ],
   "source": [
    "#문제 19\n",
    "nums=input().split()\n",
    "print(int(nums[0])**int(nums[1]))"
   ]
  },
  {
   "cell_type": "code",
   "execution_count": 113,
   "metadata": {},
   "outputs": [
    {
     "name": "stdout",
     "output_type": "stream",
     "text": [
      "3 2\n",
      "9\n"
     ]
    }
   ],
   "source": [
    "#문제 19(범용화)\n",
    "n=list(map(int,input().split())) #공백포함 입력받으면서 리스트화 ; 외워두면 좋음\n",
    "print(n[0]**n[1])"
   ]
  },
  {
   "cell_type": "code",
   "execution_count": 121,
   "metadata": {},
   "outputs": [
    {
     "name": "stdout",
     "output_type": "stream",
     "text": [
      "10 2\n",
      "5 0\n"
     ]
    }
   ],
   "source": [
    "#문제 20\n",
    "n=list(map(int,input().split()))\n",
    "#print(n[0]//n[1],end=\" \")\n",
    "#print(n[0]%n[1])\n",
    "print(n[0]//n[1],n[0]%n[1])"
   ]
  },
  {
   "cell_type": "code",
   "execution_count": 127,
   "metadata": {},
   "outputs": [
    {
     "data": {
      "text/plain": [
       "set"
      ]
     },
     "execution_count": 127,
     "metadata": {},
     "output_type": "execute_result"
    }
   ],
   "source": [
    "#문제 21\n",
    "x={1,2,3,5,6,7}\n",
    "type(x)"
   ]
  },
  {
   "cell_type": "code",
   "execution_count": 130,
   "metadata": {},
   "outputs": [
    {
     "name": "stdout",
     "output_type": "stream",
     "text": [
      "mary\n",
      "MARY\n"
     ]
    }
   ],
   "source": [
    "#문제 24\n",
    "print(input().upper())"
   ]
  },
  {
   "cell_type": "code",
   "execution_count": 132,
   "metadata": {},
   "outputs": [
    {
     "name": "stdout",
     "output_type": "stream",
     "text": [
      "7\n"
     ]
    },
    {
     "data": {
      "text/plain": [
       "153.86"
      ]
     },
     "execution_count": 132,
     "metadata": {},
     "output_type": "execute_result"
    }
   ],
   "source": [
    "#문제 25\n",
    "def circle(r):\n",
    "    return r*r*3.14\n",
    "\n",
    "circle(int(input()))"
   ]
  },
  {
   "cell_type": "code",
   "execution_count": 142,
   "metadata": {},
   "outputs": [
    {
     "name": "stdout",
     "output_type": "stream",
     "text": [
      "수성\n",
      "Mercury\n"
     ]
    }
   ],
   "source": [
    "#문제 26\n",
    "#딕셔너리로 할 것\n",
    "planet={\n",
    "    '수성':'Mercury',\n",
    "    '금성':'Venus',\n",
    "    '지구':'Earth',\n",
    "    '화성':'Mars',\n",
    "    '목성':'Jupiter',\n",
    "    '토성':'Saturn',\n",
    "    '천왕성':'Uranus',\n",
    "    '해왕성':'Neptune'}\n",
    "\n",
    "a=input()\n",
    "if a not in planet.keys():\n",
    "    print(\"없습니다.\")\n",
    "else:\n",
    "    print(planet[a])"
   ]
  },
  {
   "cell_type": "code",
   "execution_count": null,
   "metadata": {},
   "outputs": [],
   "source": []
  }
 ],
 "metadata": {
  "kernelspec": {
   "display_name": "Python 3",
   "language": "python",
   "name": "python3"
  },
  "language_info": {
   "codemirror_mode": {
    "name": "ipython",
    "version": 3
   },
   "file_extension": ".py",
   "mimetype": "text/x-python",
   "name": "python",
   "nbconvert_exporter": "python",
   "pygments_lexer": "ipython3",
   "version": "3.8.5"
  }
 },
 "nbformat": 4,
 "nbformat_minor": 4
}
