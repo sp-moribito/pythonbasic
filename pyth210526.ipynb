{
 "cells": [
  {
   "cell_type": "code",
   "execution_count": 1,
   "metadata": {},
   "outputs": [
    {
     "name": "stdout",
     "output_type": "stream",
     "text": [
      "10\n",
      "a=1\n",
      " i=0\n",
      "a=2\n",
      " i=1\n",
      "a=3\n",
      " i=2\n",
      "a=4\n",
      " i=3\n",
      "a=5\n",
      " i=4\n",
      "a=6\n",
      " i=5\n",
      "a=7\n",
      " i=6\n",
      "a=8\n",
      " i=6\n",
      "a=9\n",
      " i=7\n",
      "a=10\n",
      " i=8\n",
      "a=11\n",
      " i=9\n",
      "a=12\n",
      " i=9\n",
      "a(final)=12\n",
      " i(final)=10\n",
      "12\n"
     ]
    }
   ],
   "source": [
    "n=int(input())\n",
    "a=1\n",
    "i=0\n",
    "\n",
    "while True:\n",
    "    print(\"a={}\".format(a))\n",
    "    print(\" i={}\".format(i))\n",
    "    \n",
    "    if a==1 or a%2==0 or a%3==0 or a%5==0:\n",
    "        i+=1\n",
    "        \n",
    "    if i==n:\n",
    "        print(\"a(final)={}\".format(a))\n",
    "        print(\" i(final)={}\".format(i))\n",
    "        break\n",
    "    else:\n",
    "        a+=1\n",
    "\n",
    "print(a)"
   ]
  },
  {
   "cell_type": "code",
   "execution_count": null,
   "metadata": {},
   "outputs": [],
   "source": []
  }
 ],
 "metadata": {
  "kernelspec": {
   "display_name": "Python 3",
   "language": "python",
   "name": "python3"
  },
  "language_info": {
   "codemirror_mode": {
    "name": "ipython",
    "version": 3
   },
   "file_extension": ".py",
   "mimetype": "text/x-python",
   "name": "python",
   "nbconvert_exporter": "python",
   "pygments_lexer": "ipython3",
   "version": "3.8.5"
  }
 },
 "nbformat": 4,
 "nbformat_minor": 4
}
